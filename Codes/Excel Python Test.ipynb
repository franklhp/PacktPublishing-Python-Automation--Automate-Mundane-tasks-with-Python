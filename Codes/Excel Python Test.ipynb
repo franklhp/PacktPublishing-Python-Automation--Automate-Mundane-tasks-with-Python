{
 "cells": [
  {
   "cell_type": "markdown",
   "metadata": {},
   "source": [
    "# Introduction\n",
    "\n",
    "    * Setup development environment - openpyxl Library\n",
    "    * Load Workbook\n",
    "    * Read Worksheet\n",
    "    * Create sheet and delete sheet\n",
    "    * Read column and Row in sheet\n",
    "    * Write column and row in sheet\n",
    "    * Create new Excelworkbook and worksheet\n",
    "    * Write and modify cell in sheet \n",
    "    * Save workbook\n",
    "    * merge and unmerged cell\n",
    "    * add image to sheet\n",
    "    * add formula to cell\n",
    "    "
   ]
  },
  {
   "cell_type": "code",
   "execution_count": 5,
   "metadata": {
    "collapsed": true
   },
   "outputs": [],
   "source": [
    "a = (1,3)"
   ]
  },
  {
   "cell_type": "code",
   "execution_count": 7,
   "metadata": {},
   "outputs": [
    {
     "data": {
      "text/plain": [
       "tuple"
      ]
     },
     "execution_count": 7,
     "metadata": {},
     "output_type": "execute_result"
    }
   ],
   "source": [
    "type(a)"
   ]
  },
  {
   "cell_type": "code",
   "execution_count": 8,
   "metadata": {},
   "outputs": [
    {
     "data": {
      "text/plain": [
       "tuple"
      ]
     },
     "execution_count": 8,
     "metadata": {},
     "output_type": "execute_result"
    }
   ],
   "source": [
    "type((1,5))"
   ]
  },
  {
   "cell_type": "code",
   "execution_count": 9,
   "metadata": {},
   "outputs": [
    {
     "name": "stdout",
     "output_type": "stream",
     "text": [
      "[<title>Google</title>]\n",
      "Google\n"
     ]
    }
   ],
   "source": [
    "from bs4 import BeautifulSoup\n",
    "\n",
    "import requests\n",
    "\n",
    "url = \"https://www.google.com\"\n",
    "\n",
    "r  = requests.get(url)\n",
    "\n",
    "data = r.text\n",
    "\n",
    "soup = BeautifulSoup(data,'lxml')\n",
    "\n",
    "titleTag = soup.select('title')\n",
    "\n",
    "print(titleTag)\n",
    "print(titleTag[0].text)"
   ]
  },
  {
   "cell_type": "code",
   "execution_count": 7,
   "metadata": {
    "collapsed": true
   },
   "outputs": [],
   "source": [
    "from openpyxl import Workbook\n",
    "from openpyxl.worksheet.datavalidation import DataValidation\n",
    "\n",
    " # Create the workbook and worksheet we'll be working with\n",
    "wb = Workbook()\n",
    "ws = wb.active\n",
    "\n",
    "# Create a data-validation object with list validation\n",
    "dv = DataValidation(type=\"list\", formula1='\"Dog,Cat,Bat\"', allow_blank=True)\n",
    "\n",
    "# Optionally set a custom error message\n",
    "dv.error ='Your entry is not in the list'\n",
    "dv.errorTitle = 'Invalid Entry'\n",
    "\n",
    "# Optionally set a custom prompt message\n",
    "dv.prompt = 'Please select from the list'\n",
    "dv.promptTitle = 'List Selection'\n",
    "\n",
    "# Add the data-validation object to the worksheet\n",
    "ws.add_data_validation(dv)"
   ]
  },
  {
   "cell_type": "code",
   "execution_count": 9,
   "metadata": {
    "collapsed": true
   },
   "outputs": [],
   "source": [
    "# Create some cells, and add them to the data-validation object\n",
    "c1 = ws[\"A1\"]\n",
    "c1.value = \"Dog\"\n",
    "dv.add(c1)\n",
    "c2 = ws[\"A2\"]\n",
    "c2.value = \"An invalid value\"\n",
    "dv.add(c2)\n",
    "\n",
    "# Or, apply the validation to a range of cells\n",
    "dv.ranges.append('B1:B1048576')\n",
    "\n",
    "# Write the sheet out.  If you now open the sheet in Excel, you'll find that\n",
    "# the cells have data-validation applied.\n",
    "wb.save(\"test.xlsx\")"
   ]
  },
  {
   "cell_type": "code",
   "execution_count": null,
   "metadata": {
    "collapsed": true
   },
   "outputs": [],
   "source": []
  },
  {
   "cell_type": "code",
   "execution_count": null,
   "metadata": {
    "collapsed": true
   },
   "outputs": [],
   "source": [
    "userSheet.auto_filter.ref = 'B1:C11'\n",
    "#userSheet.auto_filter.add_filter_column(0,filterVal)"
   ]
  },
  {
   "cell_type": "code",
   "execution_count": 1,
   "metadata": {
    "collapsed": true
   },
   "outputs": [],
   "source": [
    "import openpyxl"
   ]
  },
  {
   "cell_type": "code",
   "execution_count": 2,
   "metadata": {},
   "outputs": [
    {
     "data": {
      "text/plain": [
       "'2.4.7'"
      ]
     },
     "execution_count": 2,
     "metadata": {},
     "output_type": "execute_result"
    }
   ],
   "source": [
    "openpyxl.__version__"
   ]
  },
  {
   "cell_type": "code",
   "execution_count": null,
   "metadata": {
    "collapsed": true
   },
   "outputs": [],
   "source": []
  }
 ],
 "metadata": {
  "kernelspec": {
   "display_name": "Python 3",
   "language": "python",
   "name": "python3"
  },
  "language_info": {
   "codemirror_mode": {
    "name": "ipython",
    "version": 3
   },
   "file_extension": ".py",
   "mimetype": "text/x-python",
   "name": "python",
   "nbconvert_exporter": "python",
   "pygments_lexer": "ipython3",
   "version": "3.6.1"
  }
 },
 "nbformat": 4,
 "nbformat_minor": 2
}
