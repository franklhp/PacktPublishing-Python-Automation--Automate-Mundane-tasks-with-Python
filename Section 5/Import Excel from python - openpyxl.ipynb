{
 "cells": [
  {
   "cell_type": "markdown",
   "metadata": {},
   "source": [
    "# Import Excel from python - openpyxl\n",
    "\n",
    "<table align=\"left\">\n",
    "\n",
    "    <tr>\n",
    "        <td style=\"padding:30px\">\n",
    "            <img width=\"150\" height=\"150\" align=\"left\" src=\"https://www.python.org/static/opengraph-icon-200x200.png\">  \n",
    "        </td>\n",
    "        <td style=\"font-size:40px\">\n",
    "        +\n",
    "        </td>\n",
    "        <td style=\"padding:30px\">\n",
    "            <img align=\"left\" width=\"150\" height=\"150\"  src=\"https://secure.touchnet.com/C20469_ustores/web/uploaded_images/store_6/Logo_Microsoft_Excel_2013.png\">\n",
    "        </td>\n",
    "    </tr>\n",
    "\n",
    "</table>\n",
    "\n",
    "\n",
    "\n"
   ]
  },
  {
   "cell_type": "markdown",
   "metadata": {},
   "source": [
    "# Introduction\n",
    "\n",
    "    * Setup development environment - openpyxl Library\n",
    "    * Load Workbook\n",
    "    * Read Worksheet\n",
    "    * Create sheet and delete sheet\n",
    "    * Read column and Row in sheet\n",
    "    * Write column and row in sheet\n",
    "    * Create new Excelworkbook and worksheet\n",
    "    * Write and modify cell in sheet \n",
    "    * Save workbook\n",
    "    * merge and unmerged cell\n",
    "    * add image to sheet\n",
    "    * add formula to cell\n",
    "    * adding table to Excel\n",
    "    * validating worksheet\n",
    "    "
   ]
  },
  {
   "cell_type": "markdown",
   "metadata": {
    "collapsed": true
   },
   "source": [
    "# Beginner, Intermediate, Advanced"
   ]
  },
  {
   "cell_type": "markdown",
   "metadata": {
    "collapsed": true
   },
   "source": [
    "# Basic Knowledge of python programming"
   ]
  },
  {
   "cell_type": "markdown",
   "metadata": {
    "collapsed": true
   },
   "source": [
    "# 30 Days Money back guarantee"
   ]
  },
  {
   "cell_type": "markdown",
   "metadata": {},
   "source": [
    "# Use Q&A to solve your doubt"
   ]
  },
  {
   "cell_type": "code",
   "execution_count": null,
   "metadata": {
    "collapsed": true
   },
   "outputs": [],
   "source": []
  },
  {
   "cell_type": "code",
   "execution_count": null,
   "metadata": {
    "collapsed": true
   },
   "outputs": [],
   "source": []
  },
  {
   "cell_type": "markdown",
   "metadata": {},
   "source": [
    "# Setup development environment - openpyxl Library"
   ]
  },
  {
   "cell_type": "markdown",
   "metadata": {},
   "source": [
    "* Python  \n",
    "* Anaconda  \n",
    "* Openpyxl  \n",
    "* Jupyter notebook"
   ]
  },
  {
   "cell_type": "code",
   "execution_count": 2,
   "metadata": {
    "collapsed": true
   },
   "outputs": [],
   "source": [
    "import openpyxl"
   ]
  },
  {
   "cell_type": "markdown",
   "metadata": {
    "collapsed": true
   },
   "source": [
    "# Load excel workbook in python"
   ]
  },
  {
   "cell_type": "code",
   "execution_count": 21,
   "metadata": {},
   "outputs": [],
   "source": [
    "wb = openpyxl.load_workbook('sales.xlsx', read_only=False)\n",
    "userSheet = wb.get_sheet_by_name('Users')"
   ]
  },
  {
   "cell_type": "code",
   "execution_count": 22,
   "metadata": {},
   "outputs": [
    {
     "data": {
      "text/plain": [
       "<openpyxl.workbook.workbook.Workbook at 0x24600632898>"
      ]
     },
     "execution_count": 22,
     "metadata": {},
     "output_type": "execute_result"
    }
   ],
   "source": [
    "wb"
   ]
  },
  {
   "cell_type": "code",
   "execution_count": null,
   "metadata": {
    "collapsed": true
   },
   "outputs": [],
   "source": [
    "D:\\udemy\\Excel\\sales.xlsx"
   ]
  },
  {
   "cell_type": "code",
   "execution_count": 5,
   "metadata": {
    "collapsed": true
   },
   "outputs": [],
   "source": [
    "import os"
   ]
  },
  {
   "cell_type": "code",
   "execution_count": null,
   "metadata": {
    "collapsed": true
   },
   "outputs": [],
   "source": [
    "E:\\data"
   ]
  },
  {
   "cell_type": "code",
   "execution_count": 6,
   "metadata": {},
   "outputs": [
    {
     "data": {
      "text/plain": [
       "'D:\\\\udemy\\\\Excel'"
      ]
     },
     "execution_count": 6,
     "metadata": {},
     "output_type": "execute_result"
    }
   ],
   "source": [
    "os.getcwd()"
   ]
  },
  {
   "cell_type": "code",
   "execution_count": null,
   "metadata": {
    "collapsed": true
   },
   "outputs": [],
   "source": [
    "os.chdir('E:\\Data')"
   ]
  },
  {
   "cell_type": "markdown",
   "metadata": {},
   "source": [
    "# Read Worksheet"
   ]
  },
  {
   "cell_type": "code",
   "execution_count": 11,
   "metadata": {},
   "outputs": [
    {
     "data": {
      "text/plain": [
       "openpyxl.workbook.workbook.Workbook"
      ]
     },
     "execution_count": 11,
     "metadata": {},
     "output_type": "execute_result"
    }
   ],
   "source": [
    "type(wb)"
   ]
  },
  {
   "cell_type": "code",
   "execution_count": 5,
   "metadata": {
    "collapsed": true
   },
   "outputs": [],
   "source": [
    "sheets = wb.get_sheet_names()"
   ]
  },
  {
   "cell_type": "code",
   "execution_count": 14,
   "metadata": {},
   "outputs": [
    {
     "data": {
      "text/plain": [
       "list"
      ]
     },
     "execution_count": 14,
     "metadata": {},
     "output_type": "execute_result"
    }
   ],
   "source": [
    "type(sheets)"
   ]
  },
  {
   "cell_type": "code",
   "execution_count": 16,
   "metadata": {},
   "outputs": [
    {
     "data": {
      "text/plain": [
       "'Sales'"
      ]
     },
     "execution_count": 16,
     "metadata": {},
     "output_type": "execute_result"
    }
   ],
   "source": [
    "sheets[1]"
   ]
  },
  {
   "cell_type": "code",
   "execution_count": 17,
   "metadata": {},
   "outputs": [
    {
     "data": {
      "text/plain": [
       "<Worksheet \"Sales\">"
      ]
     },
     "execution_count": 17,
     "metadata": {},
     "output_type": "execute_result"
    }
   ],
   "source": [
    "wb.active"
   ]
  },
  {
   "cell_type": "code",
   "execution_count": 18,
   "metadata": {},
   "outputs": [
    {
     "data": {
      "text/plain": [
       "['Users', 'Sales']"
      ]
     },
     "execution_count": 18,
     "metadata": {},
     "output_type": "execute_result"
    }
   ],
   "source": [
    "sheets"
   ]
  },
  {
   "cell_type": "code",
   "execution_count": 23,
   "metadata": {
    "collapsed": true
   },
   "outputs": [],
   "source": [
    "userSheet = wb.get_sheet_by_name('Users')"
   ]
  },
  {
   "cell_type": "code",
   "execution_count": 24,
   "metadata": {},
   "outputs": [
    {
     "data": {
      "text/plain": [
       "<Worksheet \"Users\">"
      ]
     },
     "execution_count": 24,
     "metadata": {},
     "output_type": "execute_result"
    }
   ],
   "source": [
    "userSheet"
   ]
  },
  {
   "cell_type": "code",
   "execution_count": 25,
   "metadata": {
    "collapsed": true
   },
   "outputs": [],
   "source": [
    "salesSheet = wb.get_sheet_by_name('Sales')"
   ]
  },
  {
   "cell_type": "code",
   "execution_count": 26,
   "metadata": {},
   "outputs": [
    {
     "data": {
      "text/plain": [
       "<Worksheet \"Sales\">"
      ]
     },
     "execution_count": 26,
     "metadata": {},
     "output_type": "execute_result"
    }
   ],
   "source": [
    "salesSheet"
   ]
  },
  {
   "cell_type": "markdown",
   "metadata": {},
   "source": [
    "# Create Worksheet or delete worksheet"
   ]
  },
  {
   "cell_type": "code",
   "execution_count": 22,
   "metadata": {},
   "outputs": [
    {
     "data": {
      "text/plain": [
       "['Users', 'Sales']"
      ]
     },
     "execution_count": 22,
     "metadata": {},
     "output_type": "execute_result"
    }
   ],
   "source": [
    "wb.get_sheet_names()"
   ]
  },
  {
   "cell_type": "code",
   "execution_count": 23,
   "metadata": {
    "collapsed": true
   },
   "outputs": [],
   "source": [
    "newsheet = wb.create_sheet('newsheet')"
   ]
  },
  {
   "cell_type": "code",
   "execution_count": 24,
   "metadata": {},
   "outputs": [
    {
     "data": {
      "text/plain": [
       "['Users', 'Sales', 'newsheet']"
      ]
     },
     "execution_count": 24,
     "metadata": {},
     "output_type": "execute_result"
    }
   ],
   "source": [
    "wb.get_sheet_names()"
   ]
  },
  {
   "cell_type": "code",
   "execution_count": 25,
   "metadata": {
    "collapsed": true
   },
   "outputs": [],
   "source": [
    "wb.save('sales.xlsx')"
   ]
  },
  {
   "cell_type": "code",
   "execution_count": 26,
   "metadata": {
    "collapsed": true
   },
   "outputs": [],
   "source": [
    "wb.remove_sheet(newsheet)"
   ]
  },
  {
   "cell_type": "code",
   "execution_count": 27,
   "metadata": {},
   "outputs": [
    {
     "data": {
      "text/plain": [
       "['Users', 'Sales']"
      ]
     },
     "execution_count": 27,
     "metadata": {},
     "output_type": "execute_result"
    }
   ],
   "source": [
    "wb.get_sheet_names()"
   ]
  },
  {
   "cell_type": "code",
   "execution_count": 28,
   "metadata": {
    "collapsed": true
   },
   "outputs": [],
   "source": [
    "wb.save('sales.xlsx')"
   ]
  },
  {
   "cell_type": "markdown",
   "metadata": {},
   "source": [
    "# Properties of worksheet"
   ]
  },
  {
   "cell_type": "code",
   "execution_count": 84,
   "metadata": {},
   "outputs": [
    {
     "data": {
      "text/plain": [
       "['Users', 'Sales']"
      ]
     },
     "execution_count": 84,
     "metadata": {},
     "output_type": "execute_result"
    }
   ],
   "source": [
    "wb.get_sheet_names()"
   ]
  },
  {
   "cell_type": "code",
   "execution_count": 85,
   "metadata": {},
   "outputs": [
    {
     "data": {
      "text/plain": [
       "<Worksheet \"Users\">"
      ]
     },
     "execution_count": 85,
     "metadata": {},
     "output_type": "execute_result"
    }
   ],
   "source": [
    "wb.active"
   ]
  },
  {
   "cell_type": "code",
   "execution_count": 4,
   "metadata": {
    "collapsed": true
   },
   "outputs": [],
   "source": [
    "userSheet = wb.get_sheet_by_name('Users')"
   ]
  },
  {
   "cell_type": "code",
   "execution_count": 92,
   "metadata": {},
   "outputs": [
    {
     "data": {
      "text/plain": [
       "1"
      ]
     },
     "execution_count": 92,
     "metadata": {},
     "output_type": "execute_result"
    }
   ],
   "source": [
    "userSheet.min_column"
   ]
  },
  {
   "cell_type": "code",
   "execution_count": 93,
   "metadata": {},
   "outputs": [
    {
     "data": {
      "text/plain": [
       "'utf-8'"
      ]
     },
     "execution_count": 93,
     "metadata": {},
     "output_type": "execute_result"
    }
   ],
   "source": [
    "userSheet.encoding"
   ]
  },
  {
   "cell_type": "code",
   "execution_count": 95,
   "metadata": {},
   "outputs": [
    {
     "data": {
      "text/plain": [
       "'A1:C11'"
      ]
     },
     "execution_count": 95,
     "metadata": {},
     "output_type": "execute_result"
    }
   ],
   "source": [
    "userSheet.dimensions"
   ]
  },
  {
   "cell_type": "code",
   "execution_count": 97,
   "metadata": {},
   "outputs": [
    {
     "data": {
      "text/plain": [
       "{(1, 1): <Cell 'Users'.A1>,\n",
       " (1, 2): <Cell 'Users'.B1>,\n",
       " (1, 3): <Cell 'Users'.C1>,\n",
       " (2, 1): <Cell 'Users'.A2>,\n",
       " (2, 2): <Cell 'Users'.B2>,\n",
       " (2, 3): <Cell 'Users'.C2>,\n",
       " (3, 1): <Cell 'Users'.A3>,\n",
       " (3, 2): <Cell 'Users'.B3>,\n",
       " (3, 3): <Cell 'Users'.C3>,\n",
       " (4, 1): <Cell 'Users'.A4>,\n",
       " (4, 2): <Cell 'Users'.B4>,\n",
       " (4, 3): <Cell 'Users'.C4>,\n",
       " (5, 1): <Cell 'Users'.A5>,\n",
       " (5, 2): <Cell 'Users'.B5>,\n",
       " (5, 3): <Cell 'Users'.C5>,\n",
       " (6, 1): <Cell 'Users'.A6>,\n",
       " (6, 2): <Cell 'Users'.B6>,\n",
       " (6, 3): <Cell 'Users'.C6>,\n",
       " (7, 1): <Cell 'Users'.A7>,\n",
       " (7, 2): <Cell 'Users'.B7>,\n",
       " (7, 3): <Cell 'Users'.C7>,\n",
       " (8, 1): <Cell 'Users'.A8>,\n",
       " (8, 2): <Cell 'Users'.B8>,\n",
       " (8, 3): <Cell 'Users'.C8>,\n",
       " (9, 1): <Cell 'Users'.A9>,\n",
       " (9, 2): <Cell 'Users'.B9>,\n",
       " (9, 3): <Cell 'Users'.C9>,\n",
       " (10, 1): <Cell 'Users'.A10>,\n",
       " (10, 2): <Cell 'Users'.B10>,\n",
       " (10, 3): <Cell 'Users'.C10>,\n",
       " (11, 1): <Cell 'Users'.A11>,\n",
       " (11, 2): <Cell 'Users'.B11>,\n",
       " (11, 3): <Cell 'Users'.C11>}"
      ]
     },
     "execution_count": 97,
     "metadata": {},
     "output_type": "execute_result"
    }
   ],
   "source": [
    "userSheet._cells"
   ]
  },
  {
   "cell_type": "markdown",
   "metadata": {},
   "source": [
    "# Read Cell - Row, Columns of Woksheet"
   ]
  },
  {
   "cell_type": "code",
   "execution_count": 114,
   "metadata": {},
   "outputs": [
    {
     "data": {
      "text/plain": [
       "<Worksheet \"Users\">"
      ]
     },
     "execution_count": 114,
     "metadata": {},
     "output_type": "execute_result"
    }
   ],
   "source": [
    "userSheet"
   ]
  },
  {
   "cell_type": "code",
   "execution_count": 117,
   "metadata": {},
   "outputs": [
    {
     "data": {
      "text/plain": [
       "12"
      ]
     },
     "execution_count": 117,
     "metadata": {},
     "output_type": "execute_result"
    }
   ],
   "source": [
    "userSheet['C4'].value"
   ]
  },
  {
   "cell_type": "code",
   "execution_count": 120,
   "metadata": {},
   "outputs": [
    {
     "name": "stdout",
     "output_type": "stream",
     "text": [
      "UserId name Total\n",
      "1 Adam Jenkins 45\n",
      "2 Ryan Moore 12\n",
      "3 Henry Edwards 12\n",
      "4 Roy Collins 2\n",
      "5 Brian Cook 18\n",
      "6 Michelle Thomas 9\n",
      "7 Kevin Ward 28\n",
      "8 Katherine Scott 8\n",
      "9 Carol Gray 9\n",
      "10 Jean Campbell 7\n"
     ]
    }
   ],
   "source": [
    "for row in userSheet.rows:\n",
    "    print(row[0].value, row[1].value, row[2].value)"
   ]
  },
  {
   "cell_type": "code",
   "execution_count": 121,
   "metadata": {},
   "outputs": [
    {
     "data": {
      "text/plain": [
       "<generator object Worksheet._cells_by_col at 0x000001B617E4CEB8>"
      ]
     },
     "execution_count": 121,
     "metadata": {},
     "output_type": "execute_result"
    }
   ],
   "source": [
    "userSheet.columns"
   ]
  },
  {
   "cell_type": "markdown",
   "metadata": {},
   "source": [
    "# Write, Modify cell"
   ]
  },
  {
   "cell_type": "code",
   "execution_count": 10,
   "metadata": {},
   "outputs": [
    {
     "data": {
      "text/plain": [
       "<openpyxl.workbook.workbook.Workbook at 0x246005fe5f8>"
      ]
     },
     "execution_count": 10,
     "metadata": {},
     "output_type": "execute_result"
    }
   ],
   "source": [
    "wb"
   ]
  },
  {
   "cell_type": "code",
   "execution_count": 11,
   "metadata": {},
   "outputs": [
    {
     "data": {
      "text/plain": [
       "<Worksheet \"Users\">"
      ]
     },
     "execution_count": 11,
     "metadata": {},
     "output_type": "execute_result"
    }
   ],
   "source": [
    "userSheet"
   ]
  },
  {
   "cell_type": "code",
   "execution_count": 28,
   "metadata": {
    "collapsed": true
   },
   "outputs": [],
   "source": [
    "userSheet['C11'] = '110'"
   ]
  },
  {
   "cell_type": "code",
   "execution_count": 29,
   "metadata": {
    "collapsed": true
   },
   "outputs": [],
   "source": [
    "wb.save('sales.xlsx')"
   ]
  },
  {
   "cell_type": "code",
   "execution_count": 34,
   "metadata": {
    "collapsed": true
   },
   "outputs": [],
   "source": [
    "userSheet['F1'] = 'new Total1' # A,B,C"
   ]
  },
  {
   "cell_type": "code",
   "execution_count": 39,
   "metadata": {
    "collapsed": true
   },
   "outputs": [],
   "source": [
    "for i in range(2,12):\n",
    "    userSheet['F'+str(i)] = 'Hello ' + str(i)"
   ]
  },
  {
   "cell_type": "code",
   "execution_count": 40,
   "metadata": {},
   "outputs": [],
   "source": [
    "wb.save('sales.xlsx')"
   ]
  },
  {
   "cell_type": "markdown",
   "metadata": {},
   "source": [
    "# Add Formula"
   ]
  },
  {
   "cell_type": "code",
   "execution_count": 14,
   "metadata": {},
   "outputs": [
    {
     "data": {
      "text/plain": [
       "<Worksheet \"Users\">"
      ]
     },
     "execution_count": 14,
     "metadata": {},
     "output_type": "execute_result"
    }
   ],
   "source": [
    "userSheet"
   ]
  },
  {
   "cell_type": "code",
   "execution_count": 15,
   "metadata": {
    "collapsed": true
   },
   "outputs": [],
   "source": [
    "userSheet['D12'] = '=SUM(D2:D11)'"
   ]
  },
  {
   "cell_type": "code",
   "execution_count": 17,
   "metadata": {
    "collapsed": true
   },
   "outputs": [],
   "source": [
    "wb.save('sales.xlsx')"
   ]
  },
  {
   "cell_type": "markdown",
   "metadata": {},
   "source": [
    "# Add image to cell"
   ]
  },
  {
   "cell_type": "code",
   "execution_count": 18,
   "metadata": {
    "collapsed": true
   },
   "outputs": [],
   "source": [
    "from openpyxl.drawing.image import Image"
   ]
  },
  {
   "cell_type": "code",
   "execution_count": 19,
   "metadata": {
    "collapsed": true
   },
   "outputs": [],
   "source": [
    "pImg = Image('python.png')\n",
    "exImg =Image('Microsoft_Excel_2013.png')"
   ]
  },
  {
   "cell_type": "code",
   "execution_count": 22,
   "metadata": {
    "collapsed": true
   },
   "outputs": [],
   "source": [
    "userSheet.add_image(pImg, 'A14')\n",
    "userSheet.add_image(exImg, 'F14')"
   ]
  },
  {
   "cell_type": "code",
   "execution_count": 23,
   "metadata": {},
   "outputs": [
    {
     "name": "stderr",
     "output_type": "stream",
     "text": [
      "C:\\Anaconda\\lib\\zipfile.py:1349: UserWarning: Duplicate name: 'xl/media/image3.png'\n",
      "  return self._open_to_write(zinfo, force_zip64=force_zip64)\n",
      "C:\\Anaconda\\lib\\zipfile.py:1349: UserWarning: Duplicate name: 'xl/media/image4.png'\n",
      "  return self._open_to_write(zinfo, force_zip64=force_zip64)\n"
     ]
    }
   ],
   "source": [
    "wb.save('sales.xlsx')"
   ]
  },
  {
   "cell_type": "markdown",
   "metadata": {
    "collapsed": true
   },
   "source": [
    "# Add Barchart "
   ]
  },
  {
   "cell_type": "code",
   "execution_count": null,
   "metadata": {
    "collapsed": true
   },
   "outputs": [],
   "source": [
    "from openpyxl.chart import BarChart, Reference"
   ]
  },
  {
   "cell_type": "code",
   "execution_count": 35,
   "metadata": {
    "collapsed": true
   },
   "outputs": [],
   "source": [
    "ref = Reference(userSheet, min_col=3, min_row=2, max_col=3, max_row=11)\n",
    "chart = BarChart()\n",
    "chart.add_data(ref)"
   ]
  },
  {
   "cell_type": "code",
   "execution_count": 36,
   "metadata": {
    "collapsed": true
   },
   "outputs": [],
   "source": [
    "userSheet.add_chart(chart, 'J4')"
   ]
  },
  {
   "cell_type": "code",
   "execution_count": 37,
   "metadata": {
    "collapsed": true
   },
   "outputs": [],
   "source": [
    "wb.save('sales.xlsx')"
   ]
  },
  {
   "cell_type": "code",
   "execution_count": 1,
   "metadata": {
    "collapsed": true
   },
   "outputs": [],
   "source": [
    "import openpyxl\n",
    "wb = openpyxl.load_workbook('sales.xlsx')\n",
    "userSheet = wb.get_sheet_by_name('Users')"
   ]
  },
  {
   "cell_type": "markdown",
   "metadata": {
    "collapsed": true
   },
   "source": [
    "# Merge and Unmerge cell"
   ]
  },
  {
   "cell_type": "code",
   "execution_count": 3,
   "metadata": {
    "collapsed": true
   },
   "outputs": [],
   "source": [
    "userSheet.merge_cells('B16:C16')"
   ]
  },
  {
   "cell_type": "code",
   "execution_count": 4,
   "metadata": {
    "collapsed": true
   },
   "outputs": [],
   "source": [
    "wb.save('sales.xlsx')"
   ]
  },
  {
   "cell_type": "code",
   "execution_count": 5,
   "metadata": {
    "collapsed": true
   },
   "outputs": [],
   "source": [
    "userSheet.unmerge_cells('B16:C16')"
   ]
  },
  {
   "cell_type": "code",
   "execution_count": 6,
   "metadata": {
    "collapsed": true
   },
   "outputs": [],
   "source": [
    "wb.save('sales.xlsx')"
   ]
  },
  {
   "cell_type": "code",
   "execution_count": null,
   "metadata": {
    "collapsed": true
   },
   "outputs": [],
   "source": []
  },
  {
   "cell_type": "markdown",
   "metadata": {
    "collapsed": true
   },
   "source": [
    "# Add filter to column"
   ]
  },
  {
   "cell_type": "code",
   "execution_count": 2,
   "metadata": {
    "collapsed": true
   },
   "outputs": [],
   "source": [
    "userSheet.auto_filter.ref = 'B1:C11'"
   ]
  },
  {
   "cell_type": "code",
   "execution_count": 3,
   "metadata": {
    "collapsed": true
   },
   "outputs": [],
   "source": [
    "wb.save('sales.xlsx')"
   ]
  },
  {
   "cell_type": "code",
   "execution_count": 4,
   "metadata": {
    "collapsed": true
   },
   "outputs": [],
   "source": [
    "userSheet.auto_filter.add_filter_column(1,['45','28'])  # B - 0 , C - 1"
   ]
  },
  {
   "cell_type": "code",
   "execution_count": 5,
   "metadata": {
    "collapsed": true
   },
   "outputs": [],
   "source": [
    "wb.save('sales.xlsx')"
   ]
  },
  {
   "cell_type": "code",
   "execution_count": null,
   "metadata": {
    "collapsed": true
   },
   "outputs": [],
   "source": []
  },
  {
   "cell_type": "code",
   "execution_count": null,
   "metadata": {
    "collapsed": true
   },
   "outputs": [],
   "source": []
  },
  {
   "cell_type": "code",
   "execution_count": null,
   "metadata": {
    "collapsed": true
   },
   "outputs": [],
   "source": []
  },
  {
   "cell_type": "code",
   "execution_count": null,
   "metadata": {
    "collapsed": true
   },
   "outputs": [],
   "source": []
  },
  {
   "cell_type": "code",
   "execution_count": null,
   "metadata": {
    "collapsed": true
   },
   "outputs": [],
   "source": []
  },
  {
   "cell_type": "code",
   "execution_count": null,
   "metadata": {
    "collapsed": true
   },
   "outputs": [],
   "source": []
  },
  {
   "cell_type": "code",
   "execution_count": null,
   "metadata": {
    "collapsed": true
   },
   "outputs": [],
   "source": []
  },
  {
   "cell_type": "code",
   "execution_count": null,
   "metadata": {
    "collapsed": true
   },
   "outputs": [],
   "source": []
  },
  {
   "cell_type": "code",
   "execution_count": null,
   "metadata": {
    "collapsed": true
   },
   "outputs": [],
   "source": []
  },
  {
   "cell_type": "code",
   "execution_count": null,
   "metadata": {
    "collapsed": true
   },
   "outputs": [],
   "source": []
  },
  {
   "cell_type": "markdown",
   "metadata": {},
   "source": [
    "# Microsoft docx File"
   ]
  },
  {
   "cell_type": "markdown",
   "metadata": {},
   "source": [
    "* Introduction to docx file\n",
    "* Installation\n",
    "* Manipulate docx from python"
   ]
  },
  {
   "cell_type": "markdown",
   "metadata": {},
   "source": [
    "# pip  install python-docx"
   ]
  },
  {
   "cell_type": "code",
   "execution_count": 8,
   "metadata": {
    "collapsed": true
   },
   "outputs": [],
   "source": [
    "import docx"
   ]
  },
  {
   "cell_type": "code",
   "execution_count": null,
   "metadata": {
    "collapsed": true
   },
   "outputs": [],
   "source": [
    "Document -> Paragraph -> List runs"
   ]
  },
  {
   "cell_type": "markdown",
   "metadata": {},
   "source": [
    "# Reading .docx file"
   ]
  },
  {
   "cell_type": "code",
   "execution_count": 10,
   "metadata": {
    "collapsed": true
   },
   "outputs": [],
   "source": [
    "import docx"
   ]
  },
  {
   "cell_type": "code",
   "execution_count": 11,
   "metadata": {
    "collapsed": true
   },
   "outputs": [],
   "source": [
    "doc = docx.Document('sample.docx')"
   ]
  },
  {
   "cell_type": "code",
   "execution_count": 12,
   "metadata": {},
   "outputs": [
    {
     "data": {
      "text/plain": [
       "docx.document.Document"
      ]
     },
     "execution_count": 12,
     "metadata": {},
     "output_type": "execute_result"
    }
   ],
   "source": [
    "type(doc)"
   ]
  },
  {
   "cell_type": "code",
   "execution_count": 20,
   "metadata": {},
   "outputs": [
    {
     "data": {
      "text/plain": [
       "9"
      ]
     },
     "execution_count": 20,
     "metadata": {},
     "output_type": "execute_result"
    }
   ],
   "source": [
    "len(doc.paragraphs)"
   ]
  },
  {
   "cell_type": "code",
   "execution_count": 18,
   "metadata": {},
   "outputs": [
    {
     "data": {
      "text/plain": [
       "'This is Title of Document '"
      ]
     },
     "execution_count": 18,
     "metadata": {},
     "output_type": "execute_result"
    }
   ],
   "source": [
    "doc.paragraphs[0].text"
   ]
  },
  {
   "cell_type": "code",
   "execution_count": 19,
   "metadata": {},
   "outputs": [
    {
     "data": {
      "text/plain": [
       "'This is first paragraph some bold and some italic text'"
      ]
     },
     "execution_count": 19,
     "metadata": {},
     "output_type": "execute_result"
    }
   ],
   "source": [
    "doc.paragraphs[1].text"
   ]
  },
  {
   "cell_type": "code",
   "execution_count": 23,
   "metadata": {},
   "outputs": [
    {
     "data": {
      "text/plain": [
       "'This is first paragraph'"
      ]
     },
     "execution_count": 23,
     "metadata": {},
     "output_type": "execute_result"
    }
   ],
   "source": [
    "doc.paragraphs[1].runs[0].text"
   ]
  },
  {
   "cell_type": "code",
   "execution_count": 24,
   "metadata": {},
   "outputs": [
    {
     "data": {
      "text/plain": [
       "' some '"
      ]
     },
     "execution_count": 24,
     "metadata": {},
     "output_type": "execute_result"
    }
   ],
   "source": [
    "doc.paragraphs[1].runs[1].text"
   ]
  },
  {
   "cell_type": "code",
   "execution_count": 26,
   "metadata": {},
   "outputs": [
    {
     "data": {
      "text/plain": [
       "'bold'"
      ]
     },
     "execution_count": 26,
     "metadata": {},
     "output_type": "execute_result"
    }
   ],
   "source": [
    "doc.paragraphs[1].runs[2].text"
   ]
  },
  {
   "cell_type": "code",
   "execution_count": 31,
   "metadata": {},
   "outputs": [
    {
     "data": {
      "text/plain": [
       "'second item in list'"
      ]
     },
     "execution_count": 31,
     "metadata": {},
     "output_type": "execute_result"
    }
   ],
   "source": [
    "doc.paragraphs[6].text"
   ]
  },
  {
   "cell_type": "markdown",
   "metadata": {
    "collapsed": true
   },
   "source": [
    "# Create and Write to .docx  file"
   ]
  },
  {
   "cell_type": "code",
   "execution_count": 46,
   "metadata": {
    "collapsed": true
   },
   "outputs": [],
   "source": [
    "import docx"
   ]
  },
  {
   "cell_type": "code",
   "execution_count": 47,
   "metadata": {
    "collapsed": true
   },
   "outputs": [],
   "source": [
    "doc = docx.Document()"
   ]
  },
  {
   "cell_type": "code",
   "execution_count": 51,
   "metadata": {
    "collapsed": true
   },
   "outputs": [],
   "source": [
    "doc.save('Hello.docx')"
   ]
  },
  {
   "cell_type": "code",
   "execution_count": 50,
   "metadata": {},
   "outputs": [
    {
     "data": {
      "text/plain": [
       "<docx.text.paragraph.Paragraph at 0x1f614d28f60>"
      ]
     },
     "execution_count": 50,
     "metadata": {},
     "output_type": "execute_result"
    }
   ],
   "source": [
    "doc.add_heading('Head0', 0)\n",
    "doc.add_heading('Head1', 1)"
   ]
  },
  {
   "cell_type": "code",
   "execution_count": 53,
   "metadata": {
    "collapsed": true
   },
   "outputs": [],
   "source": [
    "para = doc.add_paragraph('Hello World')"
   ]
  },
  {
   "cell_type": "code",
   "execution_count": 56,
   "metadata": {
    "collapsed": true
   },
   "outputs": [],
   "source": [
    "doc.save('Hello.docx')"
   ]
  },
  {
   "cell_type": "code",
   "execution_count": 55,
   "metadata": {},
   "outputs": [
    {
     "data": {
      "text/plain": [
       "<docx.text.run.Run at 0x1f614d2b908>"
      ]
     },
     "execution_count": 55,
     "metadata": {},
     "output_type": "execute_result"
    }
   ],
   "source": [
    "para.add_run('Udemy - Student')"
   ]
  },
  {
   "cell_type": "code",
   "execution_count": 57,
   "metadata": {
    "collapsed": true
   },
   "outputs": [],
   "source": [
    "para.runs[0].underline = True"
   ]
  },
  {
   "cell_type": "code",
   "execution_count": 58,
   "metadata": {
    "collapsed": true
   },
   "outputs": [],
   "source": [
    "doc.save('Hello.docx')"
   ]
  },
  {
   "cell_type": "code",
   "execution_count": null,
   "metadata": {
    "collapsed": true
   },
   "outputs": [],
   "source": []
  },
  {
   "cell_type": "markdown",
   "metadata": {
    "collapsed": true
   },
   "source": [
    "# .pdf - Portable Docuement File "
   ]
  },
  {
   "cell_type": "markdown",
   "metadata": {
    "collapsed": true
   },
   "source": [
    "### pip install PyPDF2"
   ]
  },
  {
   "cell_type": "code",
   "execution_count": 81,
   "metadata": {
    "collapsed": true
   },
   "outputs": [],
   "source": [
    "import PyPDF2"
   ]
  },
  {
   "cell_type": "code",
   "execution_count": 82,
   "metadata": {
    "collapsed": true
   },
   "outputs": [],
   "source": [
    "file = open('sample.pdf', 'rb')\n",
    "pdfObj = PyPDF2.PdfFileReader(file)"
   ]
  },
  {
   "cell_type": "code",
   "execution_count": 83,
   "metadata": {},
   "outputs": [
    {
     "data": {
      "text/plain": [
       "2"
      ]
     },
     "execution_count": 83,
     "metadata": {},
     "output_type": "execute_result"
    }
   ],
   "source": [
    "pdfObj.numPages"
   ]
  },
  {
   "cell_type": "code",
   "execution_count": 85,
   "metadata": {},
   "outputs": [
    {
     "data": {
      "text/plain": [
       "False"
      ]
     },
     "execution_count": 85,
     "metadata": {},
     "output_type": "execute_result"
    }
   ],
   "source": [
    "pdfObj.isEncrypted"
   ]
  },
  {
   "cell_type": "code",
   "execution_count": 86,
   "metadata": {
    "collapsed": true
   },
   "outputs": [],
   "source": [
    "page1 = pdfObj.getPage(0)"
   ]
  },
  {
   "cell_type": "code",
   "execution_count": 87,
   "metadata": {},
   "outputs": [
    {
     "data": {
      "text/plain": [
       "' A Simple PDF File  This is a small demonstration .pdf file -  just for use in the Virtual Mechanics tutorials. More text. And more  text. And more text. And more text. And more text.  And more text. And more text. And more text. And more text. And more  text. And more text. Boring, zzzzz. And more text. And more text. And  more text. And more text. And more text. And more text. And more text.  And more text. And more text.  And more text. And more text. And more text. And more text. And more  text. And more text. And more text. Even more. Continued on page 2 ...'"
      ]
     },
     "execution_count": 87,
     "metadata": {},
     "output_type": "execute_result"
    }
   ],
   "source": [
    "page1.extractText()"
   ]
  },
  {
   "cell_type": "code",
   "execution_count": 88,
   "metadata": {},
   "outputs": [
    {
     "data": {
      "text/plain": [
       "dict_keys(['/Type', '/Parent', '/Resources', '/MediaBox', '/Contents'])"
      ]
     },
     "execution_count": 88,
     "metadata": {},
     "output_type": "execute_result"
    }
   ],
   "source": [
    "page1.keys()"
   ]
  },
  {
   "cell_type": "code",
   "execution_count": 91,
   "metadata": {},
   "outputs": [
    {
     "data": {
      "text/plain": [
       "<bound method RectangleObject.getWidth of RectangleObject([0, 0, 612, 792])>"
      ]
     },
     "execution_count": 91,
     "metadata": {},
     "output_type": "execute_result"
    }
   ],
   "source": [
    "page1.cropBox.getWidth"
   ]
  },
  {
   "cell_type": "code",
   "execution_count": 92,
   "metadata": {
    "collapsed": true
   },
   "outputs": [],
   "source": [
    "page2 = pdfObj.getPage(1)"
   ]
  },
  {
   "cell_type": "code",
   "execution_count": 93,
   "metadata": {},
   "outputs": [
    {
     "data": {
      "text/plain": [
       "' Simple PDF File 2  ...continued from page 1. Yet more text. And more text. And more text.  And more text. And more text. And more text. And more text. And more  text. Oh, how boring typing this stuff. But not as boring as watching  paint dry. And more text. And more text. And more text. And more text.  Boring.  More, a little more text. The end, and just as well. '"
      ]
     },
     "execution_count": 93,
     "metadata": {},
     "output_type": "execute_result"
    }
   ],
   "source": [
    "page2.extractText()"
   ]
  },
  {
   "cell_type": "code",
   "execution_count": null,
   "metadata": {
    "collapsed": true
   },
   "outputs": [],
   "source": []
  },
  {
   "cell_type": "markdown",
   "metadata": {},
   "source": [
    "# Write to .pdf file"
   ]
  },
  {
   "cell_type": "code",
   "execution_count": 108,
   "metadata": {
    "collapsed": true
   },
   "outputs": [],
   "source": [
    "import PyPDF2"
   ]
  },
  {
   "cell_type": "code",
   "execution_count": 118,
   "metadata": {
    "collapsed": true
   },
   "outputs": [],
   "source": [
    "pdfWriter = PyPDF2.PdfFileWriter()"
   ]
  },
  {
   "cell_type": "code",
   "execution_count": 119,
   "metadata": {
    "collapsed": true
   },
   "outputs": [],
   "source": [
    "pdfWriter.addPage(page2.rotateClockwise(90))"
   ]
  },
  {
   "cell_type": "code",
   "execution_count": 120,
   "metadata": {
    "collapsed": true
   },
   "outputs": [],
   "source": [
    "out = open('out.pdf','wb')\n",
    "pdfWriter.write(out)\n",
    "out.close()"
   ]
  },
  {
   "cell_type": "code",
   "execution_count": 121,
   "metadata": {
    "collapsed": true
   },
   "outputs": [],
   "source": [
    "pdfWriter.encrypt('123456')"
   ]
  },
  {
   "cell_type": "code",
   "execution_count": 122,
   "metadata": {
    "collapsed": true
   },
   "outputs": [],
   "source": [
    "out = open('out.pdf','wb')\n",
    "pdfWriter.write(out)\n",
    "out.close()"
   ]
  },
  {
   "cell_type": "code",
   "execution_count": null,
   "metadata": {
    "collapsed": true
   },
   "outputs": [],
   "source": []
  },
  {
   "cell_type": "code",
   "execution_count": null,
   "metadata": {
    "collapsed": true
   },
   "outputs": [],
   "source": []
  },
  {
   "cell_type": "code",
   "execution_count": null,
   "metadata": {
    "collapsed": true
   },
   "outputs": [],
   "source": []
  },
  {
   "cell_type": "code",
   "execution_count": null,
   "metadata": {
    "collapsed": true
   },
   "outputs": [],
   "source": []
  },
  {
   "cell_type": "code",
   "execution_count": null,
   "metadata": {
    "collapsed": true
   },
   "outputs": [],
   "source": []
  },
  {
   "cell_type": "code",
   "execution_count": null,
   "metadata": {
    "collapsed": true
   },
   "outputs": [],
   "source": []
  },
  {
   "cell_type": "code",
   "execution_count": null,
   "metadata": {
    "collapsed": true
   },
   "outputs": [],
   "source": []
  },
  {
   "cell_type": "code",
   "execution_count": null,
   "metadata": {
    "collapsed": true
   },
   "outputs": [],
   "source": []
  },
  {
   "cell_type": "code",
   "execution_count": null,
   "metadata": {
    "collapsed": true
   },
   "outputs": [],
   "source": []
  },
  {
   "cell_type": "code",
   "execution_count": null,
   "metadata": {
    "collapsed": true
   },
   "outputs": [],
   "source": []
  },
  {
   "cell_type": "code",
   "execution_count": null,
   "metadata": {
    "collapsed": true
   },
   "outputs": [],
   "source": []
  },
  {
   "cell_type": "code",
   "execution_count": null,
   "metadata": {
    "collapsed": true
   },
   "outputs": [],
   "source": []
  },
  {
   "cell_type": "code",
   "execution_count": null,
   "metadata": {
    "collapsed": true
   },
   "outputs": [],
   "source": []
  },
  {
   "cell_type": "code",
   "execution_count": null,
   "metadata": {
    "collapsed": true
   },
   "outputs": [],
   "source": []
  },
  {
   "cell_type": "code",
   "execution_count": null,
   "metadata": {
    "collapsed": true
   },
   "outputs": [],
   "source": []
  },
  {
   "cell_type": "code",
   "execution_count": null,
   "metadata": {
    "collapsed": true
   },
   "outputs": [],
   "source": []
  },
  {
   "cell_type": "code",
   "execution_count": null,
   "metadata": {
    "collapsed": true
   },
   "outputs": [],
   "source": []
  },
  {
   "cell_type": "code",
   "execution_count": null,
   "metadata": {
    "collapsed": true
   },
   "outputs": [],
   "source": []
  },
  {
   "cell_type": "code",
   "execution_count": null,
   "metadata": {
    "collapsed": true
   },
   "outputs": [],
   "source": []
  },
  {
   "cell_type": "code",
   "execution_count": null,
   "metadata": {
    "collapsed": true
   },
   "outputs": [],
   "source": []
  },
  {
   "cell_type": "code",
   "execution_count": null,
   "metadata": {
    "collapsed": true
   },
   "outputs": [],
   "source": []
  },
  {
   "cell_type": "code",
   "execution_count": null,
   "metadata": {
    "collapsed": true
   },
   "outputs": [],
   "source": []
  },
  {
   "cell_type": "code",
   "execution_count": null,
   "metadata": {
    "collapsed": true
   },
   "outputs": [],
   "source": []
  },
  {
   "cell_type": "code",
   "execution_count": null,
   "metadata": {
    "collapsed": true
   },
   "outputs": [],
   "source": []
  },
  {
   "cell_type": "code",
   "execution_count": null,
   "metadata": {
    "collapsed": true
   },
   "outputs": [],
   "source": []
  },
  {
   "cell_type": "code",
   "execution_count": null,
   "metadata": {
    "collapsed": true
   },
   "outputs": [],
   "source": []
  },
  {
   "cell_type": "code",
   "execution_count": null,
   "metadata": {
    "collapsed": true
   },
   "outputs": [],
   "source": []
  },
  {
   "cell_type": "code",
   "execution_count": null,
   "metadata": {
    "collapsed": true
   },
   "outputs": [],
   "source": []
  },
  {
   "cell_type": "code",
   "execution_count": null,
   "metadata": {
    "collapsed": true
   },
   "outputs": [],
   "source": []
  },
  {
   "cell_type": "code",
   "execution_count": null,
   "metadata": {
    "collapsed": true
   },
   "outputs": [],
   "source": []
  },
  {
   "cell_type": "code",
   "execution_count": null,
   "metadata": {
    "collapsed": true
   },
   "outputs": [],
   "source": []
  },
  {
   "cell_type": "code",
   "execution_count": null,
   "metadata": {
    "collapsed": true
   },
   "outputs": [],
   "source": []
  },
  {
   "cell_type": "code",
   "execution_count": null,
   "metadata": {
    "collapsed": true
   },
   "outputs": [],
   "source": []
  },
  {
   "cell_type": "code",
   "execution_count": null,
   "metadata": {
    "collapsed": true
   },
   "outputs": [],
   "source": []
  },
  {
   "cell_type": "code",
   "execution_count": null,
   "metadata": {
    "collapsed": true
   },
   "outputs": [],
   "source": []
  },
  {
   "cell_type": "code",
   "execution_count": null,
   "metadata": {
    "collapsed": true
   },
   "outputs": [],
   "source": []
  },
  {
   "cell_type": "code",
   "execution_count": null,
   "metadata": {
    "collapsed": true
   },
   "outputs": [],
   "source": []
  },
  {
   "cell_type": "code",
   "execution_count": null,
   "metadata": {
    "collapsed": true
   },
   "outputs": [],
   "source": []
  },
  {
   "cell_type": "code",
   "execution_count": null,
   "metadata": {
    "collapsed": true
   },
   "outputs": [],
   "source": []
  },
  {
   "cell_type": "code",
   "execution_count": null,
   "metadata": {
    "collapsed": true
   },
   "outputs": [],
   "source": []
  },
  {
   "cell_type": "code",
   "execution_count": null,
   "metadata": {
    "collapsed": true
   },
   "outputs": [],
   "source": []
  },
  {
   "cell_type": "code",
   "execution_count": null,
   "metadata": {
    "collapsed": true
   },
   "outputs": [],
   "source": []
  },
  {
   "cell_type": "code",
   "execution_count": null,
   "metadata": {
    "collapsed": true
   },
   "outputs": [],
   "source": []
  },
  {
   "cell_type": "code",
   "execution_count": null,
   "metadata": {
    "collapsed": true
   },
   "outputs": [],
   "source": []
  },
  {
   "cell_type": "code",
   "execution_count": null,
   "metadata": {
    "collapsed": true
   },
   "outputs": [],
   "source": []
  },
  {
   "cell_type": "code",
   "execution_count": null,
   "metadata": {
    "collapsed": true
   },
   "outputs": [],
   "source": []
  },
  {
   "cell_type": "code",
   "execution_count": null,
   "metadata": {
    "collapsed": true
   },
   "outputs": [],
   "source": []
  },
  {
   "cell_type": "code",
   "execution_count": null,
   "metadata": {
    "collapsed": true
   },
   "outputs": [],
   "source": []
  },
  {
   "cell_type": "code",
   "execution_count": null,
   "metadata": {
    "collapsed": true
   },
   "outputs": [],
   "source": []
  },
  {
   "cell_type": "code",
   "execution_count": null,
   "metadata": {
    "collapsed": true
   },
   "outputs": [],
   "source": []
  },
  {
   "cell_type": "code",
   "execution_count": null,
   "metadata": {
    "collapsed": true
   },
   "outputs": [],
   "source": []
  },
  {
   "cell_type": "code",
   "execution_count": 6,
   "metadata": {
    "collapsed": true
   },
   "outputs": [],
   "source": [
    "import docx"
   ]
  },
  {
   "cell_type": "code",
   "execution_count": 14,
   "metadata": {
    "collapsed": true
   },
   "outputs": [],
   "source": [
    "doc = docx.Document('demo.docx')"
   ]
  },
  {
   "cell_type": "code",
   "execution_count": 15,
   "metadata": {},
   "outputs": [
    {
     "data": {
      "text/plain": [
       "'This is Title of Document '"
      ]
     },
     "execution_count": 15,
     "metadata": {},
     "output_type": "execute_result"
    }
   ],
   "source": [
    "doc.paragraphs[0].text"
   ]
  },
  {
   "cell_type": "code",
   "execution_count": 16,
   "metadata": {},
   "outputs": [
    {
     "data": {
      "text/plain": [
       "'First plain paragraph with some bold and some italic text'"
      ]
     },
     "execution_count": 16,
     "metadata": {},
     "output_type": "execute_result"
    }
   ],
   "source": [
    "doc.paragraphs[1].text"
   ]
  },
  {
   "cell_type": "code",
   "execution_count": 17,
   "metadata": {},
   "outputs": [
    {
     "data": {
      "text/plain": [
       "'First'"
      ]
     },
     "execution_count": 17,
     "metadata": {},
     "output_type": "execute_result"
    }
   ],
   "source": [
    "doc.paragraphs[1].runs[0].text"
   ]
  },
  {
   "cell_type": "code",
   "execution_count": 18,
   "metadata": {},
   "outputs": [
    {
     "data": {
      "text/plain": [
       "' plain paragraph with some '"
      ]
     },
     "execution_count": 18,
     "metadata": {},
     "output_type": "execute_result"
    }
   ],
   "source": [
    "doc.paragraphs[1].runs[1].text"
   ]
  },
  {
   "cell_type": "code",
   "execution_count": 19,
   "metadata": {},
   "outputs": [
    {
     "data": {
      "text/plain": [
       "'bold'"
      ]
     },
     "execution_count": 19,
     "metadata": {},
     "output_type": "execute_result"
    }
   ],
   "source": [
    "doc.paragraphs[1].runs[2].text"
   ]
  },
  {
   "cell_type": "code",
   "execution_count": 20,
   "metadata": {},
   "outputs": [
    {
     "data": {
      "text/plain": [
       "' and some '"
      ]
     },
     "execution_count": 20,
     "metadata": {},
     "output_type": "execute_result"
    }
   ],
   "source": [
    "doc.paragraphs[1].runs[3].text"
   ]
  },
  {
   "cell_type": "code",
   "execution_count": 21,
   "metadata": {},
   "outputs": [
    {
     "data": {
      "text/plain": [
       "[<docx.text.paragraph.Paragraph at 0x2cfb7a4a438>,\n",
       " <docx.text.paragraph.Paragraph at 0x2cfb7a4a320>,\n",
       " <docx.text.paragraph.Paragraph at 0x2cfb7a4a518>,\n",
       " <docx.text.paragraph.Paragraph at 0x2cfb7a4a160>,\n",
       " <docx.text.paragraph.Paragraph at 0x2cfb7a4a9b0>,\n",
       " <docx.text.paragraph.Paragraph at 0x2cfb7a4a588>,\n",
       " <docx.text.paragraph.Paragraph at 0x2cfb7a4a668>,\n",
       " <docx.text.paragraph.Paragraph at 0x2cfb7a4a978>]"
      ]
     },
     "execution_count": 21,
     "metadata": {},
     "output_type": "execute_result"
    }
   ],
   "source": [
    "doc.paragraphs"
   ]
  },
  {
   "cell_type": "code",
   "execution_count": 25,
   "metadata": {},
   "outputs": [
    {
     "data": {
      "text/plain": [
       "'second item in list'"
      ]
     },
     "execution_count": 25,
     "metadata": {},
     "output_type": "execute_result"
    }
   ],
   "source": [
    "doc.paragraphs[6].text"
   ]
  },
  {
   "cell_type": "code",
   "execution_count": null,
   "metadata": {
    "collapsed": true
   },
   "outputs": [],
   "source": []
  },
  {
   "cell_type": "code",
   "execution_count": null,
   "metadata": {
    "collapsed": true
   },
   "outputs": [],
   "source": []
  },
  {
   "cell_type": "code",
   "execution_count": 42,
   "metadata": {
    "collapsed": true
   },
   "outputs": [],
   "source": [
    "import docx\n",
    "doc = docx.Document()\n",
    "doc.add_heading('Header0', 0)\n",
    "doc.add_heading('Header1', 1)\n",
    "doc.add_heading('Header2', 2)\n",
    "para = doc.add_paragraph('Hello world!')\n",
    "para1 = doc.add_paragraph('')"
   ]
  },
  {
   "cell_type": "code",
   "execution_count": 43,
   "metadata": {},
   "outputs": [
    {
     "data": {
      "text/plain": [
       "<docx.text.run.Run at 0x1f614d2b7b8>"
      ]
     },
     "execution_count": 43,
     "metadata": {},
     "output_type": "execute_result"
    }
   ],
   "source": [
    "para1.add_run('Bold')\n",
    "para1.add_run('italic')"
   ]
  },
  {
   "cell_type": "code",
   "execution_count": 44,
   "metadata": {
    "collapsed": true
   },
   "outputs": [],
   "source": [
    "doc.paragraphs[1].runs[0].underline = True"
   ]
  },
  {
   "cell_type": "code",
   "execution_count": null,
   "metadata": {
    "collapsed": true
   },
   "outputs": [],
   "source": []
  },
  {
   "cell_type": "code",
   "execution_count": null,
   "metadata": {
    "collapsed": true
   },
   "outputs": [],
   "source": []
  },
  {
   "cell_type": "code",
   "execution_count": null,
   "metadata": {
    "collapsed": true
   },
   "outputs": [],
   "source": []
  },
  {
   "cell_type": "code",
   "execution_count": null,
   "metadata": {
    "collapsed": true
   },
   "outputs": [],
   "source": []
  },
  {
   "cell_type": "code",
   "execution_count": 45,
   "metadata": {
    "collapsed": true
   },
   "outputs": [],
   "source": [
    "doc.save('helloworld.docx')"
   ]
  },
  {
   "cell_type": "code",
   "execution_count": 1,
   "metadata": {
    "collapsed": true
   },
   "outputs": [],
   "source": [
    "import PyPDF2"
   ]
  },
  {
   "cell_type": "code",
   "execution_count": 15,
   "metadata": {
    "collapsed": true
   },
   "outputs": [],
   "source": [
    "pdfFile = PyPDF2.PdfFileReader(open('table.pdf','rb'))"
   ]
  },
  {
   "cell_type": "code",
   "execution_count": 16,
   "metadata": {},
   "outputs": [
    {
     "data": {
      "text/plain": [
       "{'/Contents': {'/Filter': '/FlateDecode'},\n",
       " '/CropBox': [0, 0, 612, 792],\n",
       " '/MediaBox': [0, 0, 612, 792],\n",
       " '/Parent': {'/Count': 1, '/Kids': [IndirectObject(98, 0)], '/Type': '/Pages'},\n",
       " '/Resources': {'/ColorSpace': {'/CS0': ['/ICCBased', IndirectObject(108, 0)],\n",
       "   '/CS1': ['/ICCBased', IndirectObject(109, 0)]},\n",
       "  '/Font': {'/TT0': {'/BaseFont': '/UJIRXF+Cambria-Bold',\n",
       "    '/Encoding': '/WinAnsiEncoding',\n",
       "    '/FirstChar': 32,\n",
       "    '/FontDescriptor': {'/Ascent': 950,\n",
       "     '/CapHeight': 667,\n",
       "     '/Descent': -219,\n",
       "     '/Flags': 34,\n",
       "     '/FontBBox': [-379, -219, 1333, 950],\n",
       "     '/FontFamily': 'Cambria',\n",
       "     '/FontFile2': {'/Filter': '/FlateDecode', '/Length1': 18048},\n",
       "     '/FontName': '/UJIRXF+Cambria-Bold',\n",
       "     '/FontStretch': '/Normal',\n",
       "     '/FontWeight': 700,\n",
       "     '/ItalicAngle': 0,\n",
       "     '/StemV': 140,\n",
       "     '/Type': '/FontDescriptor',\n",
       "     '/XHeight': 484},\n",
       "    '/LastChar': 120,\n",
       "    '/Subtype': '/TrueType',\n",
       "    '/ToUnicode': {'/Filter': '/FlateDecode'},\n",
       "    '/Type': '/Font',\n",
       "    '/Widths': [220,\n",
       "     0,\n",
       "     0,\n",
       "     0,\n",
       "     0,\n",
       "     0,\n",
       "     0,\n",
       "     0,\n",
       "     0,\n",
       "     0,\n",
       "     0,\n",
       "     0,\n",
       "     0,\n",
       "     0,\n",
       "     0,\n",
       "     0,\n",
       "     0,\n",
       "     0,\n",
       "     0,\n",
       "     0,\n",
       "     0,\n",
       "     0,\n",
       "     0,\n",
       "     0,\n",
       "     0,\n",
       "     0,\n",
       "     0,\n",
       "     0,\n",
       "     0,\n",
       "     0,\n",
       "     0,\n",
       "     0,\n",
       "     0,\n",
       "     0,\n",
       "     0,\n",
       "     0,\n",
       "     0,\n",
       "     578,\n",
       "     0,\n",
       "     0,\n",
       "     0,\n",
       "     0,\n",
       "     0,\n",
       "     0,\n",
       "     0,\n",
       "     0,\n",
       "     0,\n",
       "     0,\n",
       "     0,\n",
       "     0,\n",
       "     0,\n",
       "     0,\n",
       "     0,\n",
       "     0,\n",
       "     0,\n",
       "     0,\n",
       "     0,\n",
       "     0,\n",
       "     0,\n",
       "     0,\n",
       "     0,\n",
       "     0,\n",
       "     0,\n",
       "     0,\n",
       "     0,\n",
       "     535,\n",
       "     591,\n",
       "     0,\n",
       "     0,\n",
       "     531,\n",
       "     0,\n",
       "     0,\n",
       "     0,\n",
       "     0,\n",
       "     0,\n",
       "     0,\n",
       "     308,\n",
       "     890,\n",
       "     0,\n",
       "     0,\n",
       "     597,\n",
       "     0,\n",
       "     0,\n",
       "     0,\n",
       "     365,\n",
       "     0,\n",
       "     0,\n",
       "     0,\n",
       "     525]},\n",
       "   '/TT1': {'/BaseFont': '/QDKTTN+Calibri',\n",
       "    '/Encoding': '/WinAnsiEncoding',\n",
       "    '/FirstChar': 32,\n",
       "    '/FontDescriptor': {'/Ascent': 952,\n",
       "     '/CapHeight': 632,\n",
       "     '/Descent': -194,\n",
       "     '/Flags': 32,\n",
       "     '/FontBBox': [-476, -194, 1214, 952],\n",
       "     '/FontFamily': 'Calibri',\n",
       "     '/FontFile2': {'/Filter': '/FlateDecode', '/Length1': 38040},\n",
       "     '/FontName': '/QDKTTN+Calibri',\n",
       "     '/FontStretch': '/Normal',\n",
       "     '/FontWeight': 400,\n",
       "     '/ItalicAngle': 0,\n",
       "     '/StemV': 80,\n",
       "     '/Type': '/FontDescriptor',\n",
       "     '/XHeight': 467},\n",
       "    '/LastChar': 121,\n",
       "    '/Subtype': '/TrueType',\n",
       "    '/ToUnicode': {'/Filter': '/FlateDecode'},\n",
       "    '/Type': '/Font',\n",
       "    '/Widths': [226,\n",
       "     0,\n",
       "     0,\n",
       "     0,\n",
       "     0,\n",
       "     715,\n",
       "     0,\n",
       "     0,\n",
       "     303,\n",
       "     303,\n",
       "     0,\n",
       "     0,\n",
       "     250,\n",
       "     0,\n",
       "     252,\n",
       "     0,\n",
       "     507,\n",
       "     507,\n",
       "     507,\n",
       "     507,\n",
       "     507,\n",
       "     507,\n",
       "     507,\n",
       "     507,\n",
       "     507,\n",
       "     507,\n",
       "     0,\n",
       "     0,\n",
       "     0,\n",
       "     498,\n",
       "     0,\n",
       "     0,\n",
       "     0,\n",
       "     0,\n",
       "     544,\n",
       "     0,\n",
       "     615,\n",
       "     0,\n",
       "     0,\n",
       "     0,\n",
       "     0,\n",
       "     0,\n",
       "     0,\n",
       "     0,\n",
       "     420,\n",
       "     855,\n",
       "     0,\n",
       "     0,\n",
       "     0,\n",
       "     0,\n",
       "     0,\n",
       "     0,\n",
       "     487,\n",
       "     0,\n",
       "     567,\n",
       "     0,\n",
       "     0,\n",
       "     0,\n",
       "     0,\n",
       "     0,\n",
       "     0,\n",
       "     0,\n",
       "     0,\n",
       "     0,\n",
       "     0,\n",
       "     479,\n",
       "     525,\n",
       "     423,\n",
       "     525,\n",
       "     498,\n",
       "     305,\n",
       "     0,\n",
       "     525,\n",
       "     229,\n",
       "     0,\n",
       "     0,\n",
       "     229,\n",
       "     799,\n",
       "     525,\n",
       "     527,\n",
       "     525,\n",
       "     0,\n",
       "     349,\n",
       "     391,\n",
       "     335,\n",
       "     0,\n",
       "     0,\n",
       "     715,\n",
       "     433,\n",
       "     453]},\n",
       "   '/TT2': {'/BaseFont': '/IRJSLD+Calibri-Bold',\n",
       "    '/Encoding': '/WinAnsiEncoding',\n",
       "    '/FirstChar': 32,\n",
       "    '/FontDescriptor': {'/Ascent': 952,\n",
       "     '/CapHeight': 632,\n",
       "     '/Descent': -194,\n",
       "     '/Flags': 32,\n",
       "     '/FontBBox': [-493, -194, 1239, 952],\n",
       "     '/FontFamily': 'Calibri',\n",
       "     '/FontFile2': {'/Filter': '/FlateDecode', '/Length1': 30043},\n",
       "     '/FontName': '/IRJSLD+Calibri-Bold',\n",
       "     '/FontStretch': '/Normal',\n",
       "     '/FontWeight': 700,\n",
       "     '/ItalicAngle': 0,\n",
       "     '/StemV': 124,\n",
       "     '/Type': '/FontDescriptor',\n",
       "     '/XHeight': 472},\n",
       "    '/LastChar': 121,\n",
       "    '/Subtype': '/TrueType',\n",
       "    '/ToUnicode': {'/Filter': '/FlateDecode'},\n",
       "    '/Type': '/Font',\n",
       "    '/Widths': [226,\n",
       "     0,\n",
       "     0,\n",
       "     0,\n",
       "     0,\n",
       "     0,\n",
       "     0,\n",
       "     0,\n",
       "     0,\n",
       "     0,\n",
       "     0,\n",
       "     0,\n",
       "     0,\n",
       "     0,\n",
       "     0,\n",
       "     430,\n",
       "     0,\n",
       "     0,\n",
       "     0,\n",
       "     0,\n",
       "     0,\n",
       "     0,\n",
       "     0,\n",
       "     0,\n",
       "     0,\n",
       "     0,\n",
       "     0,\n",
       "     0,\n",
       "     0,\n",
       "     0,\n",
       "     0,\n",
       "     0,\n",
       "     0,\n",
       "     606,\n",
       "     561,\n",
       "     529,\n",
       "     630,\n",
       "     0,\n",
       "     0,\n",
       "     0,\n",
       "     0,\n",
       "     267,\n",
       "     0,\n",
       "     0,\n",
       "     0,\n",
       "     0,\n",
       "     0,\n",
       "     0,\n",
       "     532,\n",
       "     0,\n",
       "     563,\n",
       "     0,\n",
       "     495,\n",
       "     0,\n",
       "     0,\n",
       "     0,\n",
       "     0,\n",
       "     0,\n",
       "     0,\n",
       "     0,\n",
       "     0,\n",
       "     0,\n",
       "     0,\n",
       "     0,\n",
       "     0,\n",
       "     494,\n",
       "     537,\n",
       "     418,\n",
       "     537,\n",
       "     503,\n",
       "     0,\n",
       "     474,\n",
       "     0,\n",
       "     246,\n",
       "     0,\n",
       "     0,\n",
       "     246,\n",
       "     813,\n",
       "     537,\n",
       "     538,\n",
       "     537,\n",
       "     0,\n",
       "     355,\n",
       "     399,\n",
       "     347,\n",
       "     537,\n",
       "     0,\n",
       "     0,\n",
       "     0,\n",
       "     474]}},\n",
       "  '/ProcSet': ['/PDF', '/Text']},\n",
       " '/Rotate': 0,\n",
       " '/StructParents': 0,\n",
       " '/Type': '/Page'}"
      ]
     },
     "execution_count": 16,
     "metadata": {},
     "output_type": "execute_result"
    }
   ],
   "source": [
    "pdfFile.getPage(0)"
   ]
  },
  {
   "cell_type": "code",
   "execution_count": null,
   "metadata": {
    "collapsed": true
   },
   "outputs": [],
   "source": []
  },
  {
   "cell_type": "code",
   "execution_count": null,
   "metadata": {
    "collapsed": true
   },
   "outputs": [],
   "source": []
  },
  {
   "cell_type": "code",
   "execution_count": 33,
   "metadata": {},
   "outputs": [
    {
     "data": {
      "text/plain": [
       "19"
      ]
     },
     "execution_count": 33,
     "metadata": {},
     "output_type": "execute_result"
    }
   ],
   "source": [
    "pdfFile.getNumPages()"
   ]
  },
  {
   "cell_type": "code",
   "execution_count": 17,
   "metadata": {},
   "outputs": [
    {
     "data": {
      "text/plain": [
       "'Example table\\n This is an example of a data table.\\n Disability \\nCategory\\n Participants\\n Ballots \\nCompleted\\n Ballots \\nIncomplete/\\n Terminated\\n Results\\n Accuracy\\n Time to \\ncomplete\\n Blind\\n 5 1 4 34.5%, n=1\\n 1199 sec, n=1\\n Low Vision\\n 5 \\n2 \\n3 \\n98.3% n=2\\n (97.7%, n=3)\\n 1716 \\nsec, n=3\\n (1934 sec, n=2)\\n Dexterity\\n 5 \\n4 \\n1 \\n98.3%, n=4\\n 1672.1 sec, n=4\\n Mobility\\n 3 \\n3 \\n0 \\n95.4%, n=3\\n 1416 sec, n=3\\n  '"
      ]
     },
     "execution_count": 17,
     "metadata": {},
     "output_type": "execute_result"
    }
   ],
   "source": [
    "pdfFile.getPage(0).extractText()"
   ]
  },
  {
   "cell_type": "code",
   "execution_count": 18,
   "metadata": {
    "collapsed": true
   },
   "outputs": [],
   "source": [
    "page1 = pdfFile.getPage(0)"
   ]
  },
  {
   "cell_type": "code",
   "execution_count": 19,
   "metadata": {},
   "outputs": [
    {
     "data": {
      "text/plain": [
       "{'/Contents': {'/Filter': '/FlateDecode'},\n",
       " '/CropBox': [0, 0, 612, 792],\n",
       " '/MediaBox': [0, 0, 612, 792],\n",
       " '/Parent': {'/Count': 1, '/Kids': [IndirectObject(98, 0)], '/Type': '/Pages'},\n",
       " '/Resources': {'/ColorSpace': {'/CS0': ['/ICCBased', IndirectObject(108, 0)],\n",
       "   '/CS1': ['/ICCBased', IndirectObject(109, 0)]},\n",
       "  '/Font': {'/TT0': {'/BaseFont': '/UJIRXF+Cambria-Bold',\n",
       "    '/Encoding': '/WinAnsiEncoding',\n",
       "    '/FirstChar': 32,\n",
       "    '/FontDescriptor': {'/Ascent': 950,\n",
       "     '/CapHeight': 667,\n",
       "     '/Descent': -219,\n",
       "     '/Flags': 34,\n",
       "     '/FontBBox': [-379, -219, 1333, 950],\n",
       "     '/FontFamily': 'Cambria',\n",
       "     '/FontFile2': {'/Filter': '/FlateDecode', '/Length1': 18048},\n",
       "     '/FontName': '/UJIRXF+Cambria-Bold',\n",
       "     '/FontStretch': '/Normal',\n",
       "     '/FontWeight': 700,\n",
       "     '/ItalicAngle': 0,\n",
       "     '/StemV': 140,\n",
       "     '/Type': '/FontDescriptor',\n",
       "     '/XHeight': 484},\n",
       "    '/LastChar': 120,\n",
       "    '/Subtype': '/TrueType',\n",
       "    '/ToUnicode': {'/Filter': '/FlateDecode'},\n",
       "    '/Type': '/Font',\n",
       "    '/Widths': [220,\n",
       "     0,\n",
       "     0,\n",
       "     0,\n",
       "     0,\n",
       "     0,\n",
       "     0,\n",
       "     0,\n",
       "     0,\n",
       "     0,\n",
       "     0,\n",
       "     0,\n",
       "     0,\n",
       "     0,\n",
       "     0,\n",
       "     0,\n",
       "     0,\n",
       "     0,\n",
       "     0,\n",
       "     0,\n",
       "     0,\n",
       "     0,\n",
       "     0,\n",
       "     0,\n",
       "     0,\n",
       "     0,\n",
       "     0,\n",
       "     0,\n",
       "     0,\n",
       "     0,\n",
       "     0,\n",
       "     0,\n",
       "     0,\n",
       "     0,\n",
       "     0,\n",
       "     0,\n",
       "     0,\n",
       "     578,\n",
       "     0,\n",
       "     0,\n",
       "     0,\n",
       "     0,\n",
       "     0,\n",
       "     0,\n",
       "     0,\n",
       "     0,\n",
       "     0,\n",
       "     0,\n",
       "     0,\n",
       "     0,\n",
       "     0,\n",
       "     0,\n",
       "     0,\n",
       "     0,\n",
       "     0,\n",
       "     0,\n",
       "     0,\n",
       "     0,\n",
       "     0,\n",
       "     0,\n",
       "     0,\n",
       "     0,\n",
       "     0,\n",
       "     0,\n",
       "     0,\n",
       "     535,\n",
       "     591,\n",
       "     0,\n",
       "     0,\n",
       "     531,\n",
       "     0,\n",
       "     0,\n",
       "     0,\n",
       "     0,\n",
       "     0,\n",
       "     0,\n",
       "     308,\n",
       "     890,\n",
       "     0,\n",
       "     0,\n",
       "     597,\n",
       "     0,\n",
       "     0,\n",
       "     0,\n",
       "     365,\n",
       "     0,\n",
       "     0,\n",
       "     0,\n",
       "     525]},\n",
       "   '/TT1': {'/BaseFont': '/QDKTTN+Calibri',\n",
       "    '/Encoding': '/WinAnsiEncoding',\n",
       "    '/FirstChar': 32,\n",
       "    '/FontDescriptor': {'/Ascent': 952,\n",
       "     '/CapHeight': 632,\n",
       "     '/Descent': -194,\n",
       "     '/Flags': 32,\n",
       "     '/FontBBox': [-476, -194, 1214, 952],\n",
       "     '/FontFamily': 'Calibri',\n",
       "     '/FontFile2': {'/Filter': '/FlateDecode', '/Length1': 38040},\n",
       "     '/FontName': '/QDKTTN+Calibri',\n",
       "     '/FontStretch': '/Normal',\n",
       "     '/FontWeight': 400,\n",
       "     '/ItalicAngle': 0,\n",
       "     '/StemV': 80,\n",
       "     '/Type': '/FontDescriptor',\n",
       "     '/XHeight': 467},\n",
       "    '/LastChar': 121,\n",
       "    '/Subtype': '/TrueType',\n",
       "    '/ToUnicode': {'/Filter': '/FlateDecode'},\n",
       "    '/Type': '/Font',\n",
       "    '/Widths': [226,\n",
       "     0,\n",
       "     0,\n",
       "     0,\n",
       "     0,\n",
       "     715,\n",
       "     0,\n",
       "     0,\n",
       "     303,\n",
       "     303,\n",
       "     0,\n",
       "     0,\n",
       "     250,\n",
       "     0,\n",
       "     252,\n",
       "     0,\n",
       "     507,\n",
       "     507,\n",
       "     507,\n",
       "     507,\n",
       "     507,\n",
       "     507,\n",
       "     507,\n",
       "     507,\n",
       "     507,\n",
       "     507,\n",
       "     0,\n",
       "     0,\n",
       "     0,\n",
       "     498,\n",
       "     0,\n",
       "     0,\n",
       "     0,\n",
       "     0,\n",
       "     544,\n",
       "     0,\n",
       "     615,\n",
       "     0,\n",
       "     0,\n",
       "     0,\n",
       "     0,\n",
       "     0,\n",
       "     0,\n",
       "     0,\n",
       "     420,\n",
       "     855,\n",
       "     0,\n",
       "     0,\n",
       "     0,\n",
       "     0,\n",
       "     0,\n",
       "     0,\n",
       "     487,\n",
       "     0,\n",
       "     567,\n",
       "     0,\n",
       "     0,\n",
       "     0,\n",
       "     0,\n",
       "     0,\n",
       "     0,\n",
       "     0,\n",
       "     0,\n",
       "     0,\n",
       "     0,\n",
       "     479,\n",
       "     525,\n",
       "     423,\n",
       "     525,\n",
       "     498,\n",
       "     305,\n",
       "     0,\n",
       "     525,\n",
       "     229,\n",
       "     0,\n",
       "     0,\n",
       "     229,\n",
       "     799,\n",
       "     525,\n",
       "     527,\n",
       "     525,\n",
       "     0,\n",
       "     349,\n",
       "     391,\n",
       "     335,\n",
       "     0,\n",
       "     0,\n",
       "     715,\n",
       "     433,\n",
       "     453]},\n",
       "   '/TT2': {'/BaseFont': '/IRJSLD+Calibri-Bold',\n",
       "    '/Encoding': '/WinAnsiEncoding',\n",
       "    '/FirstChar': 32,\n",
       "    '/FontDescriptor': {'/Ascent': 952,\n",
       "     '/CapHeight': 632,\n",
       "     '/Descent': -194,\n",
       "     '/Flags': 32,\n",
       "     '/FontBBox': [-493, -194, 1239, 952],\n",
       "     '/FontFamily': 'Calibri',\n",
       "     '/FontFile2': {'/Filter': '/FlateDecode', '/Length1': 30043},\n",
       "     '/FontName': '/IRJSLD+Calibri-Bold',\n",
       "     '/FontStretch': '/Normal',\n",
       "     '/FontWeight': 700,\n",
       "     '/ItalicAngle': 0,\n",
       "     '/StemV': 124,\n",
       "     '/Type': '/FontDescriptor',\n",
       "     '/XHeight': 472},\n",
       "    '/LastChar': 121,\n",
       "    '/Subtype': '/TrueType',\n",
       "    '/ToUnicode': {'/Filter': '/FlateDecode'},\n",
       "    '/Type': '/Font',\n",
       "    '/Widths': [226,\n",
       "     0,\n",
       "     0,\n",
       "     0,\n",
       "     0,\n",
       "     0,\n",
       "     0,\n",
       "     0,\n",
       "     0,\n",
       "     0,\n",
       "     0,\n",
       "     0,\n",
       "     0,\n",
       "     0,\n",
       "     0,\n",
       "     430,\n",
       "     0,\n",
       "     0,\n",
       "     0,\n",
       "     0,\n",
       "     0,\n",
       "     0,\n",
       "     0,\n",
       "     0,\n",
       "     0,\n",
       "     0,\n",
       "     0,\n",
       "     0,\n",
       "     0,\n",
       "     0,\n",
       "     0,\n",
       "     0,\n",
       "     0,\n",
       "     606,\n",
       "     561,\n",
       "     529,\n",
       "     630,\n",
       "     0,\n",
       "     0,\n",
       "     0,\n",
       "     0,\n",
       "     267,\n",
       "     0,\n",
       "     0,\n",
       "     0,\n",
       "     0,\n",
       "     0,\n",
       "     0,\n",
       "     532,\n",
       "     0,\n",
       "     563,\n",
       "     0,\n",
       "     495,\n",
       "     0,\n",
       "     0,\n",
       "     0,\n",
       "     0,\n",
       "     0,\n",
       "     0,\n",
       "     0,\n",
       "     0,\n",
       "     0,\n",
       "     0,\n",
       "     0,\n",
       "     0,\n",
       "     494,\n",
       "     537,\n",
       "     418,\n",
       "     537,\n",
       "     503,\n",
       "     0,\n",
       "     474,\n",
       "     0,\n",
       "     246,\n",
       "     0,\n",
       "     0,\n",
       "     246,\n",
       "     813,\n",
       "     537,\n",
       "     538,\n",
       "     537,\n",
       "     0,\n",
       "     355,\n",
       "     399,\n",
       "     347,\n",
       "     537,\n",
       "     0,\n",
       "     0,\n",
       "     0,\n",
       "     474]}},\n",
       "  '/ProcSet': ['/PDF', '/Text']},\n",
       " '/Rotate': 0,\n",
       " '/StructParents': 0,\n",
       " '/Type': '/Page'}"
      ]
     },
     "execution_count": 19,
     "metadata": {},
     "output_type": "execute_result"
    }
   ],
   "source": [
    "page1.getObject()"
   ]
  },
  {
   "cell_type": "code",
   "execution_count": 38,
   "metadata": {},
   "outputs": [
    {
     "data": {
      "text/plain": [
       "{'/Contents': [IndirectObject(961, 0),\n",
       "  IndirectObject(962, 0),\n",
       "  IndirectObject(963, 0),\n",
       "  IndirectObject(964, 0),\n",
       "  IndirectObject(965, 0),\n",
       "  IndirectObject(966, 0),\n",
       "  IndirectObject(967, 0),\n",
       "  IndirectObject(968, 0)],\n",
       " '/CropBox': [0, 0, 612, 792],\n",
       " '/MediaBox': [0, 0, 612, 792],\n",
       " '/Parent': {'/Count': 9,\n",
       "  '/Kids': [IndirectObject(959, 0),\n",
       "   IndirectObject(1, 0),\n",
       "   IndirectObject(11, 0),\n",
       "   IndirectObject(13, 0),\n",
       "   IndirectObject(15, 0),\n",
       "   IndirectObject(17, 0),\n",
       "   IndirectObject(19, 0),\n",
       "   IndirectObject(24, 0),\n",
       "   IndirectObject(26, 0)],\n",
       "  '/Parent': {'/Count': 19,\n",
       "   '/Kids': [IndirectObject(953, 0),\n",
       "    IndirectObject(954, 0),\n",
       "    IndirectObject(955, 0)],\n",
       "   '/Type': '/Pages'},\n",
       "  '/Type': '/Pages'},\n",
       " '/Resources': {'/ColorSpace': {'/CS0': ['/ICCBased', IndirectObject(969, 0)],\n",
       "   '/CS1': ['/ICCBased', IndirectObject(970, 0)],\n",
       "   '/CS2': ['/ICCBased', IndirectObject(970, 0)]},\n",
       "  '/ExtGState': {'/GS0': {'/AIS': <PyPDF2.generic.BooleanObject at 0x2cfb8aeb198>,\n",
       "    '/BM': '/Normal',\n",
       "    '/CA': 1,\n",
       "    '/OP': <PyPDF2.generic.BooleanObject at 0x2cfb8aeb1d0>,\n",
       "    '/OPM': 1,\n",
       "    '/SA': <PyPDF2.generic.BooleanObject at 0x2cfb8aeb208>,\n",
       "    '/SMask': '/None',\n",
       "    '/Type': '/ExtGState',\n",
       "    '/ca': 1,\n",
       "    '/op': <PyPDF2.generic.BooleanObject at 0x2cfb8aeb2e8>}},\n",
       "  '/Font': {'/TT0': {'/BaseFont': '/Arial-Black',\n",
       "    '/Encoding': '/WinAnsiEncoding',\n",
       "    '/FirstChar': 0,\n",
       "    '/FontDescriptor': {'/Ascent': 1083,\n",
       "     '/CapHeight': 716,\n",
       "     '/Descent': -307,\n",
       "     '/Flags': 32,\n",
       "     '/FontBBox': [-194, -307, 1688, 1083],\n",
       "     '/FontFamily': 'Arial Black',\n",
       "     '/FontName': '/Arial-Black',\n",
       "     '/FontStretch': '/Normal',\n",
       "     '/FontWeight': 900,\n",
       "     '/ItalicAngle': 0,\n",
       "     '/StemV': 200,\n",
       "     '/Type': '/FontDescriptor',\n",
       "     '/XHeight': 519},\n",
       "    '/LastChar': 255,\n",
       "    '/Subtype': '/TrueType',\n",
       "    '/Type': '/Font',\n",
       "    '/Widths': [750,\n",
       "     333,\n",
       "     333,\n",
       "     333,\n",
       "     333,\n",
       "     333,\n",
       "     333,\n",
       "     333,\n",
       "     333,\n",
       "     333,\n",
       "     333,\n",
       "     333,\n",
       "     333,\n",
       "     333,\n",
       "     333,\n",
       "     333,\n",
       "     333,\n",
       "     333,\n",
       "     333,\n",
       "     333,\n",
       "     333,\n",
       "     333,\n",
       "     333,\n",
       "     333,\n",
       "     333,\n",
       "     333,\n",
       "     333,\n",
       "     333,\n",
       "     333,\n",
       "     333,\n",
       "     333,\n",
       "     333,\n",
       "     333,\n",
       "     333,\n",
       "     500,\n",
       "     660,\n",
       "     667,\n",
       "     1000,\n",
       "     889,\n",
       "     278,\n",
       "     389,\n",
       "     389,\n",
       "     556,\n",
       "     660,\n",
       "     333,\n",
       "     333,\n",
       "     333,\n",
       "     278,\n",
       "     667,\n",
       "     667,\n",
       "     667,\n",
       "     667,\n",
       "     667,\n",
       "     667,\n",
       "     667,\n",
       "     667,\n",
       "     667,\n",
       "     667,\n",
       "     333,\n",
       "     333,\n",
       "     660,\n",
       "     660,\n",
       "     660,\n",
       "     611,\n",
       "     740,\n",
       "     778,\n",
       "     778,\n",
       "     778,\n",
       "     778,\n",
       "     722,\n",
       "     667,\n",
       "     833,\n",
       "     833,\n",
       "     389,\n",
       "     667,\n",
       "     833,\n",
       "     667,\n",
       "     944,\n",
       "     833,\n",
       "     833,\n",
       "     722,\n",
       "     833,\n",
       "     778,\n",
       "     722,\n",
       "     722,\n",
       "     833,\n",
       "     778,\n",
       "     1000,\n",
       "     778,\n",
       "     778,\n",
       "     722,\n",
       "     389,\n",
       "     278,\n",
       "     389,\n",
       "     660,\n",
       "     500,\n",
       "     333,\n",
       "     667,\n",
       "     667,\n",
       "     667,\n",
       "     667,\n",
       "     667,\n",
       "     389,\n",
       "     667,\n",
       "     667,\n",
       "     333,\n",
       "     333,\n",
       "     667,\n",
       "     333,\n",
       "     1000,\n",
       "     667,\n",
       "     667,\n",
       "     667,\n",
       "     667,\n",
       "     444,\n",
       "     611,\n",
       "     444,\n",
       "     667,\n",
       "     611,\n",
       "     944,\n",
       "     667,\n",
       "     611,\n",
       "     556,\n",
       "     389,\n",
       "     278,\n",
       "     389,\n",
       "     660,\n",
       "     500,\n",
       "     667,\n",
       "     500,\n",
       "     278,\n",
       "     667,\n",
       "     500,\n",
       "     1000,\n",
       "     667,\n",
       "     667,\n",
       "     333,\n",
       "     1000,\n",
       "     722,\n",
       "     333,\n",
       "     1000,\n",
       "     500,\n",
       "     722,\n",
       "     500,\n",
       "     500,\n",
       "     278,\n",
       "     278,\n",
       "     500,\n",
       "     500,\n",
       "     500,\n",
       "     500,\n",
       "     1000,\n",
       "     333,\n",
       "     950,\n",
       "     611,\n",
       "     333,\n",
       "     1000,\n",
       "     500,\n",
       "     556,\n",
       "     778,\n",
       "     333,\n",
       "     333,\n",
       "     667,\n",
       "     667,\n",
       "     660,\n",
       "     667,\n",
       "     278,\n",
       "     667,\n",
       "     333,\n",
       "     800,\n",
       "     400,\n",
       "     667,\n",
       "     660,\n",
       "     333,\n",
       "     800,\n",
       "     500,\n",
       "     400,\n",
       "     660,\n",
       "     400,\n",
       "     400,\n",
       "     333,\n",
       "     667,\n",
       "     850,\n",
       "     333,\n",
       "     333,\n",
       "     400,\n",
       "     400,\n",
       "     667,\n",
       "     1000,\n",
       "     1000,\n",
       "     1000,\n",
       "     611,\n",
       "     778,\n",
       "     778,\n",
       "     778,\n",
       "     778,\n",
       "     778,\n",
       "     778,\n",
       "     1000,\n",
       "     778,\n",
       "     722,\n",
       "     722,\n",
       "     722,\n",
       "     722,\n",
       "     389,\n",
       "     389,\n",
       "     389,\n",
       "     389,\n",
       "     778,\n",
       "     833,\n",
       "     833,\n",
       "     833,\n",
       "     833,\n",
       "     833,\n",
       "     833,\n",
       "     660,\n",
       "     833,\n",
       "     833,\n",
       "     833,\n",
       "     833,\n",
       "     833,\n",
       "     778,\n",
       "     722,\n",
       "     667,\n",
       "     667,\n",
       "     667,\n",
       "     667,\n",
       "     667,\n",
       "     667,\n",
       "     667,\n",
       "     1000,\n",
       "     667,\n",
       "     667,\n",
       "     667,\n",
       "     667,\n",
       "     667,\n",
       "     333,\n",
       "     333,\n",
       "     333,\n",
       "     333,\n",
       "     667,\n",
       "     667,\n",
       "     667,\n",
       "     667,\n",
       "     667,\n",
       "     667,\n",
       "     667,\n",
       "     660,\n",
       "     667,\n",
       "     667,\n",
       "     667,\n",
       "     667,\n",
       "     667,\n",
       "     611,\n",
       "     667,\n",
       "     611]},\n",
       "   '/TT1': {'/BaseFont': '/ArialMT',\n",
       "    '/Encoding': '/WinAnsiEncoding',\n",
       "    '/FirstChar': 0,\n",
       "    '/FontDescriptor': {'/Ascent': 1006,\n",
       "     '/CapHeight': 716,\n",
       "     '/Descent': -325,\n",
       "     '/Flags': 32,\n",
       "     '/FontBBox': [-665, -325, 2000, 1006],\n",
       "     '/FontFamily': 'Arial',\n",
       "     '/FontName': '/ArialMT',\n",
       "     '/FontStretch': '/Normal',\n",
       "     '/FontWeight': 400,\n",
       "     '/ItalicAngle': 0,\n",
       "     '/StemV': 88,\n",
       "     '/Type': '/FontDescriptor',\n",
       "     '/XHeight': 519},\n",
       "    '/LastChar': 255,\n",
       "    '/Subtype': '/TrueType',\n",
       "    '/Type': '/Font',\n",
       "    '/Widths': [750,\n",
       "     750,\n",
       "     750,\n",
       "     750,\n",
       "     750,\n",
       "     750,\n",
       "     750,\n",
       "     750,\n",
       "     750,\n",
       "     750,\n",
       "     750,\n",
       "     750,\n",
       "     750,\n",
       "     750,\n",
       "     750,\n",
       "     750,\n",
       "     750,\n",
       "     750,\n",
       "     750,\n",
       "     750,\n",
       "     750,\n",
       "     750,\n",
       "     750,\n",
       "     750,\n",
       "     750,\n",
       "     750,\n",
       "     750,\n",
       "     750,\n",
       "     750,\n",
       "     750,\n",
       "     750,\n",
       "     750,\n",
       "     278,\n",
       "     278,\n",
       "     355,\n",
       "     556,\n",
       "     556,\n",
       "     889,\n",
       "     667,\n",
       "     191,\n",
       "     333,\n",
       "     333,\n",
       "     389,\n",
       "     584,\n",
       "     278,\n",
       "     333,\n",
       "     278,\n",
       "     278,\n",
       "     556,\n",
       "     556,\n",
       "     556,\n",
       "     556,\n",
       "     556,\n",
       "     556,\n",
       "     556,\n",
       "     556,\n",
       "     556,\n",
       "     556,\n",
       "     278,\n",
       "     278,\n",
       "     584,\n",
       "     584,\n",
       "     584,\n",
       "     556,\n",
       "     1015,\n",
       "     667,\n",
       "     667,\n",
       "     722,\n",
       "     722,\n",
       "     667,\n",
       "     611,\n",
       "     778,\n",
       "     722,\n",
       "     278,\n",
       "     500,\n",
       "     667,\n",
       "     556,\n",
       "     833,\n",
       "     722,\n",
       "     778,\n",
       "     667,\n",
       "     778,\n",
       "     722,\n",
       "     667,\n",
       "     611,\n",
       "     722,\n",
       "     667,\n",
       "     944,\n",
       "     667,\n",
       "     667,\n",
       "     611,\n",
       "     278,\n",
       "     278,\n",
       "     278,\n",
       "     469,\n",
       "     556,\n",
       "     333,\n",
       "     556,\n",
       "     556,\n",
       "     500,\n",
       "     556,\n",
       "     556,\n",
       "     278,\n",
       "     556,\n",
       "     556,\n",
       "     222,\n",
       "     222,\n",
       "     500,\n",
       "     222,\n",
       "     833,\n",
       "     556,\n",
       "     556,\n",
       "     556,\n",
       "     556,\n",
       "     333,\n",
       "     500,\n",
       "     278,\n",
       "     556,\n",
       "     500,\n",
       "     722,\n",
       "     500,\n",
       "     500,\n",
       "     500,\n",
       "     334,\n",
       "     260,\n",
       "     334,\n",
       "     584,\n",
       "     350,\n",
       "     556,\n",
       "     350,\n",
       "     222,\n",
       "     556,\n",
       "     333,\n",
       "     1000,\n",
       "     556,\n",
       "     556,\n",
       "     333,\n",
       "     1000,\n",
       "     667,\n",
       "     333,\n",
       "     1000,\n",
       "     350,\n",
       "     611,\n",
       "     350,\n",
       "     350,\n",
       "     222,\n",
       "     222,\n",
       "     333,\n",
       "     333,\n",
       "     350,\n",
       "     556,\n",
       "     1000,\n",
       "     333,\n",
       "     1000,\n",
       "     500,\n",
       "     333,\n",
       "     944,\n",
       "     350,\n",
       "     500,\n",
       "     667,\n",
       "     278,\n",
       "     333,\n",
       "     556,\n",
       "     556,\n",
       "     556,\n",
       "     556,\n",
       "     260,\n",
       "     556,\n",
       "     333,\n",
       "     737,\n",
       "     370,\n",
       "     556,\n",
       "     584,\n",
       "     333,\n",
       "     737,\n",
       "     552,\n",
       "     400,\n",
       "     549,\n",
       "     333,\n",
       "     333,\n",
       "     333,\n",
       "     576,\n",
       "     537,\n",
       "     333,\n",
       "     333,\n",
       "     333,\n",
       "     365,\n",
       "     556,\n",
       "     834,\n",
       "     834,\n",
       "     834,\n",
       "     611,\n",
       "     667,\n",
       "     667,\n",
       "     667,\n",
       "     667,\n",
       "     667,\n",
       "     667,\n",
       "     1000,\n",
       "     722,\n",
       "     667,\n",
       "     667,\n",
       "     667,\n",
       "     667,\n",
       "     278,\n",
       "     278,\n",
       "     278,\n",
       "     278,\n",
       "     722,\n",
       "     722,\n",
       "     778,\n",
       "     778,\n",
       "     778,\n",
       "     778,\n",
       "     778,\n",
       "     584,\n",
       "     778,\n",
       "     722,\n",
       "     722,\n",
       "     722,\n",
       "     722,\n",
       "     667,\n",
       "     667,\n",
       "     611,\n",
       "     556,\n",
       "     556,\n",
       "     556,\n",
       "     556,\n",
       "     556,\n",
       "     556,\n",
       "     889,\n",
       "     500,\n",
       "     556,\n",
       "     556,\n",
       "     556,\n",
       "     556,\n",
       "     278,\n",
       "     278,\n",
       "     278,\n",
       "     278,\n",
       "     556,\n",
       "     556,\n",
       "     556,\n",
       "     556,\n",
       "     556,\n",
       "     556,\n",
       "     556,\n",
       "     549,\n",
       "     611,\n",
       "     556,\n",
       "     556,\n",
       "     556,\n",
       "     556,\n",
       "     500,\n",
       "     556,\n",
       "     500]},\n",
       "   '/TT2': {'/BaseFont': '/Tahoma-Bold',\n",
       "    '/Encoding': '/WinAnsiEncoding',\n",
       "    '/FirstChar': 0,\n",
       "    '/FontDescriptor': {'/Ascent': 1065,\n",
       "     '/CapHeight': 727,\n",
       "     '/Descent': -216,\n",
       "     '/Flags': 32,\n",
       "     '/FontBBox': [-698, -216, 1625, 1065],\n",
       "     '/FontFamily': 'Tahoma',\n",
       "     '/FontName': '/Tahoma-Bold',\n",
       "     '/FontStretch': '/Normal',\n",
       "     '/FontWeight': 700,\n",
       "     '/ItalicAngle': 0,\n",
       "     '/StemV': 172,\n",
       "     '/Type': '/FontDescriptor',\n",
       "     '/XHeight': 548},\n",
       "    '/LastChar': 255,\n",
       "    '/Subtype': '/TrueType',\n",
       "    '/Type': '/Font',\n",
       "    '/Widths': [1000,\n",
       "     1000,\n",
       "     1000,\n",
       "     1000,\n",
       "     1000,\n",
       "     1000,\n",
       "     1000,\n",
       "     1000,\n",
       "     1000,\n",
       "     1000,\n",
       "     1000,\n",
       "     1000,\n",
       "     1000,\n",
       "     1000,\n",
       "     1000,\n",
       "     1000,\n",
       "     1000,\n",
       "     1000,\n",
       "     1000,\n",
       "     1000,\n",
       "     1000,\n",
       "     1000,\n",
       "     1000,\n",
       "     1000,\n",
       "     1000,\n",
       "     1000,\n",
       "     1000,\n",
       "     1000,\n",
       "     1000,\n",
       "     1000,\n",
       "     1000,\n",
       "     1000,\n",
       "     293,\n",
       "     343,\n",
       "     489,\n",
       "     818,\n",
       "     637,\n",
       "     1199,\n",
       "     781,\n",
       "     275,\n",
       "     454,\n",
       "     454,\n",
       "     637,\n",
       "     818,\n",
       "     313,\n",
       "     431,\n",
       "     313,\n",
       "     577,\n",
       "     637,\n",
       "     637,\n",
       "     637,\n",
       "     637,\n",
       "     637,\n",
       "     637,\n",
       "     637,\n",
       "     637,\n",
       "     637,\n",
       "     637,\n",
       "     363,\n",
       "     363,\n",
       "     818,\n",
       "     818,\n",
       "     818,\n",
       "     566,\n",
       "     920,\n",
       "     685,\n",
       "     686,\n",
       "     667,\n",
       "     757,\n",
       "     615,\n",
       "     581,\n",
       "     745,\n",
       "     764,\n",
       "     483,\n",
       "     500,\n",
       "     696,\n",
       "     572,\n",
       "     893,\n",
       "     771,\n",
       "     770,\n",
       "     657,\n",
       "     770,\n",
       "     726,\n",
       "     633,\n",
       "     612,\n",
       "     739,\n",
       "     675,\n",
       "     1028,\n",
       "     685,\n",
       "     670,\n",
       "     623,\n",
       "     454,\n",
       "     577,\n",
       "     454,\n",
       "     818,\n",
       "     637,\n",
       "     546,\n",
       "     599,\n",
       "     632,\n",
       "     527,\n",
       "     629,\n",
       "     594,\n",
       "     382,\n",
       "     629,\n",
       "     640,\n",
       "     302,\n",
       "     363,\n",
       "     603,\n",
       "     302,\n",
       "     954,\n",
       "     640,\n",
       "     617,\n",
       "     629,\n",
       "     629,\n",
       "     434,\n",
       "     515,\n",
       "     416,\n",
       "     640,\n",
       "     579,\n",
       "     890,\n",
       "     604,\n",
       "     576,\n",
       "     526,\n",
       "     623,\n",
       "     637,\n",
       "     623,\n",
       "     818,\n",
       "     637,\n",
       "     637,\n",
       "     637,\n",
       "     275,\n",
       "     637,\n",
       "     489,\n",
       "     1000,\n",
       "     637,\n",
       "     637,\n",
       "     546,\n",
       "     1676,\n",
       "     633,\n",
       "     425,\n",
       "     1037,\n",
       "     637,\n",
       "     623,\n",
       "     637,\n",
       "     637,\n",
       "     275,\n",
       "     275,\n",
       "     489,\n",
       "     489,\n",
       "     637,\n",
       "     637,\n",
       "     909,\n",
       "     546,\n",
       "     861,\n",
       "     515,\n",
       "     425,\n",
       "     985,\n",
       "     637,\n",
       "     526,\n",
       "     670,\n",
       "     293,\n",
       "     343,\n",
       "     637,\n",
       "     637,\n",
       "     637,\n",
       "     637,\n",
       "     637,\n",
       "     637,\n",
       "     546,\n",
       "     929,\n",
       "     508,\n",
       "     703,\n",
       "     818,\n",
       "     431,\n",
       "     929,\n",
       "     637,\n",
       "     520,\n",
       "     818,\n",
       "     539,\n",
       "     539,\n",
       "     546,\n",
       "     651,\n",
       "     637,\n",
       "     363,\n",
       "     546,\n",
       "     539,\n",
       "     539,\n",
       "     703,\n",
       "     1128,\n",
       "     1128,\n",
       "     1128,\n",
       "     566,\n",
       "     685,\n",
       "     685,\n",
       "     685,\n",
       "     685,\n",
       "     685,\n",
       "     685,\n",
       "     989,\n",
       "     667,\n",
       "     615,\n",
       "     615,\n",
       "     615,\n",
       "     615,\n",
       "     483,\n",
       "     483,\n",
       "     483,\n",
       "     483,\n",
       "     774,\n",
       "     771,\n",
       "     770,\n",
       "     770,\n",
       "     770,\n",
       "     770,\n",
       "     770,\n",
       "     818,\n",
       "     770,\n",
       "     739,\n",
       "     739,\n",
       "     739,\n",
       "     739,\n",
       "     670,\n",
       "     659,\n",
       "     646,\n",
       "     599,\n",
       "     599,\n",
       "     599,\n",
       "     599,\n",
       "     599,\n",
       "     599,\n",
       "     937,\n",
       "     527,\n",
       "     594,\n",
       "     594,\n",
       "     594,\n",
       "     594,\n",
       "     302,\n",
       "     302,\n",
       "     302,\n",
       "     302,\n",
       "     620,\n",
       "     640,\n",
       "     617,\n",
       "     617,\n",
       "     617,\n",
       "     617,\n",
       "     617,\n",
       "     818,\n",
       "     617,\n",
       "     640,\n",
       "     640,\n",
       "     640,\n",
       "     640,\n",
       "     576,\n",
       "     629,\n",
       "     576]},\n",
       "   '/TT3': {'/BaseFont': '/Arial-BoldMT',\n",
       "    '/Encoding': '/WinAnsiEncoding',\n",
       "    '/FirstChar': 0,\n",
       "    '/FontDescriptor': {'/Ascent': 1018,\n",
       "     '/CapHeight': 716,\n",
       "     '/Descent': -376,\n",
       "     '/Flags': 32,\n",
       "     '/FontBBox': [-628, -376, 2000, 1018],\n",
       "     '/FontFamily': 'Arial',\n",
       "     '/FontName': '/Arial-BoldMT',\n",
       "     '/FontStretch': '/Normal',\n",
       "     '/FontWeight': 700,\n",
       "     '/ItalicAngle': 0,\n",
       "     '/StemV': 136,\n",
       "     '/Type': '/FontDescriptor',\n",
       "     '/XHeight': 519},\n",
       "    '/LastChar': 255,\n",
       "    '/Subtype': '/TrueType',\n",
       "    '/Type': '/Font',\n",
       "    '/Widths': [750,\n",
       "     750,\n",
       "     750,\n",
       "     750,\n",
       "     750,\n",
       "     750,\n",
       "     750,\n",
       "     750,\n",
       "     750,\n",
       "     750,\n",
       "     750,\n",
       "     750,\n",
       "     750,\n",
       "     750,\n",
       "     750,\n",
       "     750,\n",
       "     750,\n",
       "     750,\n",
       "     750,\n",
       "     750,\n",
       "     750,\n",
       "     750,\n",
       "     750,\n",
       "     750,\n",
       "     750,\n",
       "     750,\n",
       "     750,\n",
       "     750,\n",
       "     750,\n",
       "     750,\n",
       "     750,\n",
       "     750,\n",
       "     278,\n",
       "     333,\n",
       "     474,\n",
       "     556,\n",
       "     556,\n",
       "     889,\n",
       "     722,\n",
       "     238,\n",
       "     333,\n",
       "     333,\n",
       "     389,\n",
       "     584,\n",
       "     278,\n",
       "     333,\n",
       "     278,\n",
       "     278,\n",
       "     556,\n",
       "     556,\n",
       "     556,\n",
       "     556,\n",
       "     556,\n",
       "     556,\n",
       "     556,\n",
       "     556,\n",
       "     556,\n",
       "     556,\n",
       "     333,\n",
       "     333,\n",
       "     584,\n",
       "     584,\n",
       "     584,\n",
       "     611,\n",
       "     975,\n",
       "     722,\n",
       "     722,\n",
       "     722,\n",
       "     722,\n",
       "     667,\n",
       "     611,\n",
       "     778,\n",
       "     722,\n",
       "     278,\n",
       "     556,\n",
       "     722,\n",
       "     611,\n",
       "     833,\n",
       "     722,\n",
       "     778,\n",
       "     667,\n",
       "     778,\n",
       "     722,\n",
       "     667,\n",
       "     611,\n",
       "     722,\n",
       "     667,\n",
       "     944,\n",
       "     667,\n",
       "     667,\n",
       "     611,\n",
       "     333,\n",
       "     278,\n",
       "     333,\n",
       "     584,\n",
       "     556,\n",
       "     333,\n",
       "     556,\n",
       "     611,\n",
       "     556,\n",
       "     611,\n",
       "     556,\n",
       "     333,\n",
       "     611,\n",
       "     611,\n",
       "     278,\n",
       "     278,\n",
       "     556,\n",
       "     278,\n",
       "     889,\n",
       "     611,\n",
       "     611,\n",
       "     611,\n",
       "     611,\n",
       "     389,\n",
       "     556,\n",
       "     333,\n",
       "     611,\n",
       "     556,\n",
       "     778,\n",
       "     556,\n",
       "     556,\n",
       "     500,\n",
       "     389,\n",
       "     280,\n",
       "     389,\n",
       "     584,\n",
       "     350,\n",
       "     556,\n",
       "     350,\n",
       "     278,\n",
       "     556,\n",
       "     500,\n",
       "     1000,\n",
       "     556,\n",
       "     556,\n",
       "     333,\n",
       "     1000,\n",
       "     667,\n",
       "     333,\n",
       "     1000,\n",
       "     350,\n",
       "     611,\n",
       "     350,\n",
       "     350,\n",
       "     278,\n",
       "     278,\n",
       "     500,\n",
       "     500,\n",
       "     350,\n",
       "     556,\n",
       "     1000,\n",
       "     333,\n",
       "     1000,\n",
       "     556,\n",
       "     333,\n",
       "     944,\n",
       "     350,\n",
       "     500,\n",
       "     667,\n",
       "     278,\n",
       "     333,\n",
       "     556,\n",
       "     556,\n",
       "     556,\n",
       "     556,\n",
       "     280,\n",
       "     556,\n",
       "     333,\n",
       "     737,\n",
       "     370,\n",
       "     556,\n",
       "     584,\n",
       "     333,\n",
       "     737,\n",
       "     552,\n",
       "     400,\n",
       "     549,\n",
       "     333,\n",
       "     333,\n",
       "     333,\n",
       "     576,\n",
       "     556,\n",
       "     333,\n",
       "     333,\n",
       "     333,\n",
       "     365,\n",
       "     556,\n",
       "     834,\n",
       "     834,\n",
       "     834,\n",
       "     611,\n",
       "     722,\n",
       "     722,\n",
       "     722,\n",
       "     722,\n",
       "     722,\n",
       "     722,\n",
       "     1000,\n",
       "     722,\n",
       "     667,\n",
       "     667,\n",
       "     667,\n",
       "     667,\n",
       "     278,\n",
       "     278,\n",
       "     278,\n",
       "     278,\n",
       "     722,\n",
       "     722,\n",
       "     778,\n",
       "     778,\n",
       "     778,\n",
       "     778,\n",
       "     778,\n",
       "     584,\n",
       "     778,\n",
       "     722,\n",
       "     722,\n",
       "     722,\n",
       "     722,\n",
       "     667,\n",
       "     667,\n",
       "     611,\n",
       "     556,\n",
       "     556,\n",
       "     556,\n",
       "     556,\n",
       "     556,\n",
       "     556,\n",
       "     889,\n",
       "     556,\n",
       "     556,\n",
       "     556,\n",
       "     556,\n",
       "     556,\n",
       "     278,\n",
       "     278,\n",
       "     278,\n",
       "     278,\n",
       "     611,\n",
       "     611,\n",
       "     611,\n",
       "     611,\n",
       "     611,\n",
       "     611,\n",
       "     611,\n",
       "     549,\n",
       "     611,\n",
       "     611,\n",
       "     611,\n",
       "     611,\n",
       "     611,\n",
       "     556,\n",
       "     611,\n",
       "     556]},\n",
       "   '/TT4': {'/BaseFont': '/TimesNewRomanPSMT',\n",
       "    '/Encoding': '/WinAnsiEncoding',\n",
       "    '/FirstChar': 0,\n",
       "    '/FontDescriptor': {'/Ascent': 1007,\n",
       "     '/CapHeight': 662,\n",
       "     '/Descent': -307,\n",
       "     '/Flags': 34,\n",
       "     '/FontBBox': [-568, -307, 2000, 1007],\n",
       "     '/FontFamily': 'Times New Roman',\n",
       "     '/FontName': '/TimesNewRomanPSMT',\n",
       "     '/FontStretch': '/Normal',\n",
       "     '/FontWeight': 400,\n",
       "     '/ItalicAngle': 0,\n",
       "     '/StemV': 80,\n",
       "     '/Type': '/FontDescriptor',\n",
       "     '/XHeight': 448},\n",
       "    '/LastChar': 255,\n",
       "    '/Subtype': '/TrueType',\n",
       "    '/Type': '/Font',\n",
       "    '/Widths': [778,\n",
       "     778,\n",
       "     778,\n",
       "     778,\n",
       "     778,\n",
       "     778,\n",
       "     778,\n",
       "     778,\n",
       "     778,\n",
       "     778,\n",
       "     778,\n",
       "     778,\n",
       "     778,\n",
       "     778,\n",
       "     778,\n",
       "     778,\n",
       "     778,\n",
       "     778,\n",
       "     778,\n",
       "     778,\n",
       "     778,\n",
       "     778,\n",
       "     778,\n",
       "     778,\n",
       "     778,\n",
       "     778,\n",
       "     778,\n",
       "     778,\n",
       "     778,\n",
       "     778,\n",
       "     778,\n",
       "     778,\n",
       "     250,\n",
       "     333,\n",
       "     408,\n",
       "     500,\n",
       "     500,\n",
       "     833,\n",
       "     778,\n",
       "     180,\n",
       "     333,\n",
       "     333,\n",
       "     500,\n",
       "     564,\n",
       "     250,\n",
       "     333,\n",
       "     250,\n",
       "     278,\n",
       "     500,\n",
       "     500,\n",
       "     500,\n",
       "     500,\n",
       "     500,\n",
       "     500,\n",
       "     500,\n",
       "     500,\n",
       "     500,\n",
       "     500,\n",
       "     278,\n",
       "     278,\n",
       "     564,\n",
       "     564,\n",
       "     564,\n",
       "     444,\n",
       "     921,\n",
       "     722,\n",
       "     667,\n",
       "     667,\n",
       "     722,\n",
       "     611,\n",
       "     556,\n",
       "     722,\n",
       "     722,\n",
       "     333,\n",
       "     389,\n",
       "     722,\n",
       "     611,\n",
       "     889,\n",
       "     722,\n",
       "     722,\n",
       "     556,\n",
       "     722,\n",
       "     667,\n",
       "     556,\n",
       "     611,\n",
       "     722,\n",
       "     722,\n",
       "     944,\n",
       "     722,\n",
       "     722,\n",
       "     611,\n",
       "     333,\n",
       "     278,\n",
       "     333,\n",
       "     469,\n",
       "     500,\n",
       "     333,\n",
       "     444,\n",
       "     500,\n",
       "     444,\n",
       "     500,\n",
       "     444,\n",
       "     333,\n",
       "     500,\n",
       "     500,\n",
       "     278,\n",
       "     278,\n",
       "     500,\n",
       "     278,\n",
       "     778,\n",
       "     500,\n",
       "     500,\n",
       "     500,\n",
       "     500,\n",
       "     333,\n",
       "     389,\n",
       "     278,\n",
       "     500,\n",
       "     500,\n",
       "     722,\n",
       "     500,\n",
       "     500,\n",
       "     444,\n",
       "     480,\n",
       "     200,\n",
       "     480,\n",
       "     541,\n",
       "     350,\n",
       "     500,\n",
       "     350,\n",
       "     333,\n",
       "     500,\n",
       "     444,\n",
       "     1000,\n",
       "     500,\n",
       "     500,\n",
       "     333,\n",
       "     1000,\n",
       "     556,\n",
       "     333,\n",
       "     889,\n",
       "     350,\n",
       "     611,\n",
       "     350,\n",
       "     350,\n",
       "     333,\n",
       "     333,\n",
       "     444,\n",
       "     444,\n",
       "     350,\n",
       "     500,\n",
       "     1000,\n",
       "     333,\n",
       "     980,\n",
       "     389,\n",
       "     333,\n",
       "     722,\n",
       "     350,\n",
       "     444,\n",
       "     722,\n",
       "     250,\n",
       "     333,\n",
       "     500,\n",
       "     500,\n",
       "     500,\n",
       "     500,\n",
       "     200,\n",
       "     500,\n",
       "     333,\n",
       "     760,\n",
       "     276,\n",
       "     500,\n",
       "     564,\n",
       "     333,\n",
       "     760,\n",
       "     500,\n",
       "     400,\n",
       "     549,\n",
       "     300,\n",
       "     300,\n",
       "     333,\n",
       "     576,\n",
       "     453,\n",
       "     333,\n",
       "     333,\n",
       "     300,\n",
       "     310,\n",
       "     500,\n",
       "     750,\n",
       "     750,\n",
       "     750,\n",
       "     444,\n",
       "     722,\n",
       "     722,\n",
       "     722,\n",
       "     722,\n",
       "     722,\n",
       "     722,\n",
       "     889,\n",
       "     667,\n",
       "     611,\n",
       "     611,\n",
       "     611,\n",
       "     611,\n",
       "     333,\n",
       "     333,\n",
       "     333,\n",
       "     333,\n",
       "     722,\n",
       "     722,\n",
       "     722,\n",
       "     722,\n",
       "     722,\n",
       "     722,\n",
       "     722,\n",
       "     564,\n",
       "     722,\n",
       "     722,\n",
       "     722,\n",
       "     722,\n",
       "     722,\n",
       "     722,\n",
       "     556,\n",
       "     500,\n",
       "     444,\n",
       "     444,\n",
       "     444,\n",
       "     444,\n",
       "     444,\n",
       "     444,\n",
       "     667,\n",
       "     444,\n",
       "     444,\n",
       "     444,\n",
       "     444,\n",
       "     444,\n",
       "     278,\n",
       "     278,\n",
       "     278,\n",
       "     278,\n",
       "     500,\n",
       "     500,\n",
       "     500,\n",
       "     500,\n",
       "     500,\n",
       "     500,\n",
       "     500,\n",
       "     549,\n",
       "     500,\n",
       "     500,\n",
       "     500,\n",
       "     500,\n",
       "     500,\n",
       "     500,\n",
       "     500,\n",
       "     500]},\n",
       "   '/TT5': {'/BaseFont': '/ZNNWAA+LucidaCalligraphy-Italic',\n",
       "    '/Encoding': '/WinAnsiEncoding',\n",
       "    '/FirstChar': 32,\n",
       "    '/FontDescriptor': {'/Ascent': 958,\n",
       "     '/CapHeight': 741,\n",
       "     '/Descent': -325,\n",
       "     '/Flags': 98,\n",
       "     '/FontBBox': [-290, -325, 1287, 958],\n",
       "     '/FontFamily': 'Lucida Calligraphy',\n",
       "     '/FontFile2': {'/Filter': '/FlateDecode', '/Length1': 11512},\n",
       "     '/FontName': '/ZNNWAA+LucidaCalligraphy-Italic',\n",
       "     '/FontStretch': '/Normal',\n",
       "     '/FontWeight': 400,\n",
       "     '/ItalicAngle': -12,\n",
       "     '/StemV': 100,\n",
       "     '/Type': '/FontDescriptor',\n",
       "     '/XHeight': 541},\n",
       "    '/LastChar': 121,\n",
       "    '/Subtype': '/TrueType',\n",
       "    '/ToUnicode': {'/Filter': '/FlateDecode'},\n",
       "    '/Type': '/Font',\n",
       "    '/Widths': [332,\n",
       "     0,\n",
       "     0,\n",
       "     0,\n",
       "     0,\n",
       "     0,\n",
       "     0,\n",
       "     0,\n",
       "     0,\n",
       "     0,\n",
       "     0,\n",
       "     0,\n",
       "     283,\n",
       "     0,\n",
       "     283,\n",
       "     0,\n",
       "     0,\n",
       "     0,\n",
       "     0,\n",
       "     0,\n",
       "     0,\n",
       "     0,\n",
       "     0,\n",
       "     0,\n",
       "     0,\n",
       "     0,\n",
       "     0,\n",
       "     0,\n",
       "     0,\n",
       "     0,\n",
       "     0,\n",
       "     0,\n",
       "     0,\n",
       "     0,\n",
       "     786,\n",
       "     0,\n",
       "     0,\n",
       "     735,\n",
       "     0,\n",
       "     0,\n",
       "     0,\n",
       "     0,\n",
       "     0,\n",
       "     0,\n",
       "     669,\n",
       "     0,\n",
       "     0,\n",
       "     0,\n",
       "     0,\n",
       "     0,\n",
       "     0,\n",
       "     581,\n",
       "     715,\n",
       "     0,\n",
       "     0,\n",
       "     0,\n",
       "     0,\n",
       "     0,\n",
       "     0,\n",
       "     0,\n",
       "     0,\n",
       "     0,\n",
       "     0,\n",
       "     0,\n",
       "     0,\n",
       "     668,\n",
       "     615,\n",
       "     546,\n",
       "     668,\n",
       "     542,\n",
       "     409,\n",
       "     614,\n",
       "     664,\n",
       "     376,\n",
       "     0,\n",
       "     631,\n",
       "     339,\n",
       "     1024,\n",
       "     711,\n",
       "     583,\n",
       "     664,\n",
       "     0,\n",
       "     563,\n",
       "     451,\n",
       "     456,\n",
       "     697,\n",
       "     705,\n",
       "     945,\n",
       "     710,\n",
       "     693]}},\n",
       "  '/XObject': {'/Im0': {'/BitsPerComponent': 8,\n",
       "    '/ColorSpace': ['/ICCBased', IndirectObject(970, 0)],\n",
       "    '/DecodeParms': {'/BitsPerComponent': 8, '/Colors': 3, '/Columns': 309},\n",
       "    '/Filter': '/FlateDecode',\n",
       "    '/Height': 309,\n",
       "    '/Name': '/X',\n",
       "    '/Subtype': '/Image',\n",
       "    '/Type': '/XObject',\n",
       "    '/Width': 309}}},\n",
       " '/Rotate': 90,\n",
       " '/StructParents': 0,\n",
       " '/Type': '/Page'}"
      ]
     },
     "execution_count": 38,
     "metadata": {},
     "output_type": "execute_result"
    }
   ],
   "source": [
    "page1.rotateClockwise(90)"
   ]
  },
  {
   "cell_type": "code",
   "execution_count": null,
   "metadata": {
    "collapsed": true
   },
   "outputs": [],
   "source": []
  },
  {
   "cell_type": "code",
   "execution_count": null,
   "metadata": {
    "collapsed": true
   },
   "outputs": [],
   "source": []
  },
  {
   "cell_type": "code",
   "execution_count": null,
   "metadata": {
    "collapsed": true
   },
   "outputs": [],
   "source": []
  },
  {
   "cell_type": "code",
   "execution_count": 61,
   "metadata": {
    "collapsed": true
   },
   "outputs": [],
   "source": [
    "import PyPDF2"
   ]
  },
  {
   "cell_type": "code",
   "execution_count": 62,
   "metadata": {
    "collapsed": true
   },
   "outputs": [],
   "source": [
    "pdfObj = PyPDF2.PdfFileReader(open('sample.pdf','rb'))"
   ]
  },
  {
   "cell_type": "code",
   "execution_count": 63,
   "metadata": {},
   "outputs": [
    {
     "data": {
      "text/plain": [
       "2"
      ]
     },
     "execution_count": 63,
     "metadata": {},
     "output_type": "execute_result"
    }
   ],
   "source": [
    "pdfObj.numPages"
   ]
  },
  {
   "cell_type": "code",
   "execution_count": 67,
   "metadata": {
    "collapsed": true
   },
   "outputs": [],
   "source": [
    "page1 = pdfObj.getPage(0)"
   ]
  },
  {
   "cell_type": "code",
   "execution_count": 68,
   "metadata": {},
   "outputs": [
    {
     "data": {
      "text/plain": [
       "' A Simple PDF File  This is a small demonstration .pdf file -  just for use in the Virtual Mechanics tutorials. More text. And more  text. And more text. And more text. And more text.  And more text. And more text. And more text. And more text. And more  text. And more text. Boring, zzzzz. And more text. And more text. And  more text. And more text. And more text. And more text. And more text.  And more text. And more text.  And more text. And more text. And more text. And more text. And more  text. And more text. And more text. Even more. Continued on page 2 ...'"
      ]
     },
     "execution_count": 68,
     "metadata": {},
     "output_type": "execute_result"
    }
   ],
   "source": [
    "page1.extractText()"
   ]
  },
  {
   "cell_type": "code",
   "execution_count": 73,
   "metadata": {
    "collapsed": true
   },
   "outputs": [],
   "source": [
    "page1.scaleBy(2)"
   ]
  },
  {
   "cell_type": "code",
   "execution_count": 74,
   "metadata": {},
   "outputs": [
    {
     "data": {
      "text/plain": [
       "RectangleObject([0, 0, 612, 792])"
      ]
     },
     "execution_count": 74,
     "metadata": {},
     "output_type": "execute_result"
    }
   ],
   "source": [
    "page1.cropBox"
   ]
  },
  {
   "cell_type": "code",
   "execution_count": 75,
   "metadata": {},
   "outputs": [
    {
     "data": {
      "text/plain": [
       "False"
      ]
     },
     "execution_count": 75,
     "metadata": {},
     "output_type": "execute_result"
    }
   ],
   "source": [
    "pdfObj.isEncrypted"
   ]
  },
  {
   "cell_type": "code",
   "execution_count": null,
   "metadata": {
    "collapsed": true
   },
   "outputs": [],
   "source": []
  },
  {
   "cell_type": "code",
   "execution_count": null,
   "metadata": {
    "collapsed": true
   },
   "outputs": [],
   "source": []
  },
  {
   "cell_type": "code",
   "execution_count": 106,
   "metadata": {
    "collapsed": true
   },
   "outputs": [],
   "source": [
    "import PyPDF2"
   ]
  },
  {
   "cell_type": "code",
   "execution_count": 107,
   "metadata": {
    "collapsed": true
   },
   "outputs": [],
   "source": [
    "pdfWriter = PyPDF2.PdfFileWriter()\n",
    "page1."
   ]
  },
  {
   "cell_type": "code",
   "execution_count": 95,
   "metadata": {
    "collapsed": true
   },
   "outputs": [],
   "source": [
    "pdfWriter.addPage(page1)"
   ]
  },
  {
   "cell_type": "code",
   "execution_count": 103,
   "metadata": {
    "collapsed": true
   },
   "outputs": [],
   "source": [
    "outFile = open('test.pdf','wb')\n",
    "pdfWriter.write(outFile)\n",
    "outFile.close()"
   ]
  },
  {
   "cell_type": "code",
   "execution_count": 100,
   "metadata": {
    "collapsed": true
   },
   "outputs": [],
   "source": [
    "pdfWriter.addPage(page1.rotateClockwise(90))"
   ]
  },
  {
   "cell_type": "code",
   "execution_count": 102,
   "metadata": {
    "collapsed": true
   },
   "outputs": [],
   "source": [
    "pdfWriter.encrypt('123')"
   ]
  },
  {
   "cell_type": "code",
   "execution_count": 105,
   "metadata": {
    "collapsed": true
   },
   "outputs": [],
   "source": [
    "pdfWriter.pageMode"
   ]
  },
  {
   "cell_type": "code",
   "execution_count": null,
   "metadata": {
    "collapsed": true
   },
   "outputs": [],
   "source": []
  }
 ],
 "metadata": {
  "kernelspec": {
   "display_name": "Python 3",
   "language": "python",
   "name": "python3"
  },
  "language_info": {
   "codemirror_mode": {
    "name": "ipython",
    "version": 3
   },
   "file_extension": ".py",
   "mimetype": "text/x-python",
   "name": "python",
   "nbconvert_exporter": "python",
   "pygments_lexer": "ipython3",
   "version": "3.6.1"
  }
 },
 "nbformat": 4,
 "nbformat_minor": 2
}
